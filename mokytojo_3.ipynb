{
 "cells": [
  {
   "cell_type": "markdown",
   "metadata": {},
   "source": [
    "# mutable and immutable variables\n",
    "https://medium.com/@meghamohan/mutable-and-immutable-side-of-python-c2145cf72747\n"
   ]
  },
  {
   "cell_type": "code",
   "execution_count": 6,
   "metadata": {},
   "outputs": [
    {
     "name": "stdout",
     "output_type": "stream",
     "text": [
      "pries\n",
      "2100277870832\n",
      "2100277870832\n",
      "po\n",
      "2100277870832\n",
      "2100277870992\n",
      "1\n",
      "6\n"
     ]
    }
   ],
   "source": [
    "# immutable variable:\n",
    "a = 1\n",
    "b = a\n",
    "print ('pries')\n",
    "print( id(a) )\n",
    "print( id(b) )\n",
    "b += 5\n",
    "print ('po')\n",
    "print( id(a) )\n",
    "print( id(b) )\n",
    "print (a)\n",
    "print (b)"
   ]
  },
  {
   "cell_type": "code",
   "execution_count": 10,
   "metadata": {},
   "outputs": [
    {
     "name": "stdout",
     "output_type": "stream",
     "text": [
      "pries\n",
      "2100357995968\n",
      "2100357995968\n",
      "po\n",
      "2100357995968\n",
      "2100357995968\n",
      "[1, 2, 3, 10]\n",
      "[1, 2, 3, 10]\n"
     ]
    }
   ],
   "source": [
    "# mutable variable:\n",
    "a = [1,2,3]\n",
    "b = a\n",
    "print ('pries')\n",
    "print( id(a) )\n",
    "print( id(b) )\n",
    "b.append(10)\n",
    "print ('po')\n",
    "print( id(a) )\n",
    "print( id(b) )\n",
    "print (a)\n",
    "print (b)"
   ]
  },
  {
   "cell_type": "code",
   "execution_count": 12,
   "metadata": {},
   "outputs": [
    {
     "name": "stdout",
     "output_type": "stream",
     "text": [
      "pries\n",
      "2100359314944\n",
      "2100359307136\n",
      "po\n",
      "2100359314944\n",
      "2100359307136\n",
      "[1, 2, 3]\n",
      "[1, 2, 3, 10]\n"
     ]
    }
   ],
   "source": [
    "# fixing mutable variable #1\n",
    "a = [1,2,3]\n",
    "b = a.copy()\n",
    "print ('pries')\n",
    "print( id(a) )\n",
    "print( id(b) )\n",
    "b.append(10)\n",
    "print ('po')\n",
    "print( id(a) )\n",
    "print( id(b) )\n",
    "print (a)\n",
    "print (b)"
   ]
  },
  {
   "cell_type": "code",
   "execution_count": 14,
   "metadata": {},
   "outputs": [
    {
     "name": "stdout",
     "output_type": "stream",
     "text": [
      "pries\n",
      "2100359418816\n",
      "2100359419456\n",
      "po\n",
      "2100359418816\n",
      "2100359419456\n",
      "[1, 2, ['a', 'b', 'c']]\n",
      "[1, 2, ['a', 'b', 'c']]\n"
     ]
    }
   ],
   "source": [
    "# where fix #1 doesn't work\n",
    "a = [1,2, [ 'a', 'b' ] ]\n",
    "b = a.copy()\n",
    "print ('pries')\n",
    "print( id(a) )\n",
    "print( id(b) )\n",
    "b[-1].append( 'c' )\n",
    "print ('po')\n",
    "print( id(a) )\n",
    "print( id(b) )\n",
    "print (a)\n",
    "print (b)"
   ]
  },
  {
   "cell_type": "code",
   "execution_count": 15,
   "metadata": {},
   "outputs": [
    {
     "name": "stdout",
     "output_type": "stream",
     "text": [
      "pries\n",
      "2100359420864\n",
      "2100359420032\n",
      "po\n",
      "2100359420864\n",
      "2100359420032\n",
      "[1, 2, ['a', 'b']]\n",
      "[1, 2, ['a', 'b', 'c']]\n"
     ]
    }
   ],
   "source": [
    "# fixing mutable variable #2\n",
    "import copy\n",
    "a = [1,2, [ 'a', 'b' ] ]\n",
    "b = copy.deepcopy(a)\n",
    "print ('pries')\n",
    "print( id(a) )\n",
    "print( id(b) )\n",
    "b[-1].append( 'c' )\n",
    "print ('po')\n",
    "print( id(a) )\n",
    "print( id(b) )\n",
    "print (a)\n",
    "print (b)"
   ]
  },
  {
   "cell_type": "markdown",
   "metadata": {},
   "source": [
    "# Tuple "
   ]
  },
  {
   "cell_type": "code",
   "execution_count": 17,
   "metadata": {},
   "outputs": [
    {
     "name": "stdout",
     "output_type": "stream",
     "text": [
      "<class 'tuple'>\n"
     ]
    }
   ],
   "source": [
    "my_tuple = ( 1,3,5 )\n",
    "print (type( my_tuple ))"
   ]
  },
  {
   "cell_type": "code",
   "execution_count": 18,
   "metadata": {},
   "outputs": [
    {
     "ename": "TypeError",
     "evalue": "can only concatenate tuple (not \"int\") to tuple",
     "output_type": "error",
     "traceback": [
      "\u001b[1;31m---------------------------------------------------------------------------\u001b[0m",
      "\u001b[1;31mTypeError\u001b[0m                                 Traceback (most recent call last)",
      "\u001b[1;32mc:\\Users\\Robotux\\Documents\\Python\\20220830VCSPYTVAK\\lesson_3.ipynb Cell 9\u001b[0m in \u001b[0;36m<module>\u001b[1;34m\u001b[0m\n\u001b[1;32m----> <a href='vscode-notebook-cell:/c%3A/Users/Robotux/Documents/Python/20220830VCSPYTVAK/lesson_3.ipynb#X13sZmlsZQ%3D%3D?line=0'>1</a>\u001b[0m my_tuple \u001b[39m+\u001b[39;49m \u001b[39m5\u001b[39;49m\n",
      "\u001b[1;31mTypeError\u001b[0m: can only concatenate tuple (not \"int\") to tuple"
     ]
    }
   ],
   "source": [
    "my_tuple + 5"
   ]
  },
  {
   "cell_type": "code",
   "execution_count": 20,
   "metadata": {},
   "outputs": [
    {
     "name": "stdout",
     "output_type": "stream",
     "text": [
      "(1, 3, 5, 10, 15)\n",
      "(1, 3, 5)\n"
     ]
    }
   ],
   "source": [
    "print (my_tuple + ( 10,15 ) )\n",
    "print (my_tuple)"
   ]
  },
  {
   "cell_type": "code",
   "execution_count": 21,
   "metadata": {},
   "outputs": [
    {
     "name": "stdout",
     "output_type": "stream",
     "text": [
      "(1, 3, 5, 10, 15)\n"
     ]
    }
   ],
   "source": [
    "my_tuple = my_tuple + ( 10,15 )\n",
    "print (my_tuple)"
   ]
  },
  {
   "cell_type": "code",
   "execution_count": 25,
   "metadata": {},
   "outputs": [
    {
     "name": "stdout",
     "output_type": "stream",
     "text": [
      "1\n",
      "5\n",
      "(5, 10)\n"
     ]
    }
   ],
   "source": [
    "print (my_tuple[0] )\n",
    "print (my_tuple[2] )\n",
    "print (my_tuple[2: 4] )"
   ]
  },
  {
   "cell_type": "code",
   "execution_count": 27,
   "metadata": {},
   "outputs": [
    {
     "name": "stdout",
     "output_type": "stream",
     "text": [
      "1\n",
      "0\n"
     ]
    }
   ],
   "source": [
    "print (my_tuple.count(10) )\n",
    "print (my_tuple.count(100) )"
   ]
  },
  {
   "cell_type": "code",
   "execution_count": 38,
   "metadata": {},
   "outputs": [
    {
     "name": "stdout",
     "output_type": "stream",
     "text": [
      "(1, 3, 5, 10, 15, 10, 15)\n",
      "3\n",
      "5\n"
     ]
    },
    {
     "ename": "ValueError",
     "evalue": "tuple.index(x): x not in tuple",
     "output_type": "error",
     "traceback": [
      "\u001b[1;31m---------------------------------------------------------------------------\u001b[0m",
      "\u001b[1;31mValueError\u001b[0m                                Traceback (most recent call last)",
      "\u001b[1;32mc:\\Users\\Robotux\\Documents\\Python\\20220830VCSPYTVAK\\lesson_3.ipynb Cell 14\u001b[0m in \u001b[0;36m<module>\u001b[1;34m\u001b[0m\n\u001b[0;32m      <a href='vscode-notebook-cell:/c%3A/Users/Robotux/Documents/Python/20220830VCSPYTVAK/lesson_3.ipynb#X22sZmlsZQ%3D%3D?line=3'>4</a>\u001b[0m \u001b[39mprint\u001b[39m (my_tuple\u001b[39m.\u001b[39mindex(\u001b[39m10\u001b[39m, \u001b[39m4\u001b[39m) )\n\u001b[0;32m      <a href='vscode-notebook-cell:/c%3A/Users/Robotux/Documents/Python/20220830VCSPYTVAK/lesson_3.ipynb#X22sZmlsZQ%3D%3D?line=4'>5</a>\u001b[0m \u001b[39m# error\u001b[39;00m\n\u001b[1;32m----> <a href='vscode-notebook-cell:/c%3A/Users/Robotux/Documents/Python/20220830VCSPYTVAK/lesson_3.ipynb#X22sZmlsZQ%3D%3D?line=5'>6</a>\u001b[0m \u001b[39mprint\u001b[39m (my_tuple\u001b[39m.\u001b[39;49mindex(\u001b[39m100\u001b[39;49m) )\n",
      "\u001b[1;31mValueError\u001b[0m: tuple.index(x): x not in tuple"
     ]
    }
   ],
   "source": [
    "my_tuple = (1, 3, 5, 10, 15, 10, 15)\n",
    "print (my_tuple)\n",
    "print (my_tuple.index(10) )\n",
    "print (my_tuple.index(10, 4) )\n",
    "# error\n",
    "print (my_tuple.index(100) )"
   ]
  },
  {
   "cell_type": "code",
   "execution_count": 35,
   "metadata": {},
   "outputs": [
    {
     "data": {
      "text/plain": [
       "(5, 10)"
      ]
     },
     "execution_count": 35,
     "metadata": {},
     "output_type": "execute_result"
    }
   ],
   "source": [
    "my_tuple[0]\n",
    "my_tuple[2]\n",
    "my_tuple[2: 4]"
   ]
  },
  {
   "cell_type": "code",
   "execution_count": 37,
   "metadata": {},
   "outputs": [
    {
     "name": "stdout",
     "output_type": "stream",
     "text": [
      "None\n",
      "[5, 4, 100]\n"
     ]
    }
   ],
   "source": [
    "my_list = [5,4]\n",
    "print (my_list.append(100))\n",
    "print (my_list)"
   ]
  },
  {
   "cell_type": "code",
   "execution_count": 40,
   "metadata": {},
   "outputs": [
    {
     "name": "stdout",
     "output_type": "stream",
     "text": [
      "(1, 3, 5, 10, 15, 10, 15)\n"
     ]
    },
    {
     "ename": "TypeError",
     "evalue": "'tuple' object does not support item assignment",
     "output_type": "error",
     "traceback": [
      "\u001b[1;31m---------------------------------------------------------------------------\u001b[0m",
      "\u001b[1;31mTypeError\u001b[0m                                 Traceback (most recent call last)",
      "\u001b[1;32mc:\\Users\\Robotux\\Documents\\Python\\20220830VCSPYTVAK\\lesson_3.ipynb Cell 17\u001b[0m in \u001b[0;36m<module>\u001b[1;34m\u001b[0m\n\u001b[0;32m      <a href='vscode-notebook-cell:/c%3A/Users/Robotux/Documents/Python/20220830VCSPYTVAK/lesson_3.ipynb#X24sZmlsZQ%3D%3D?line=0'>1</a>\u001b[0m \u001b[39mprint\u001b[39m (my_tuple)\n\u001b[1;32m----> <a href='vscode-notebook-cell:/c%3A/Users/Robotux/Documents/Python/20220830VCSPYTVAK/lesson_3.ipynb#X24sZmlsZQ%3D%3D?line=1'>2</a>\u001b[0m my_tuple[\u001b[39m2\u001b[39m] \u001b[39m=\u001b[39m \u001b[39m849\u001b[39m\n",
      "\u001b[1;31mTypeError\u001b[0m: 'tuple' object does not support item assignment"
     ]
    }
   ],
   "source": [
    "print (my_tuple)\n",
    "my_tuple[2] = 849"
   ]
  },
  {
   "cell_type": "code",
   "execution_count": 43,
   "metadata": {},
   "outputs": [
    {
     "name": "stdout",
     "output_type": "stream",
     "text": [
      "7\n",
      "True\n",
      "False\n"
     ]
    }
   ],
   "source": [
    "print ( len(my_tuple) )\n",
    "print (10 in my_tuple)\n",
    "print (2 in my_tuple)"
   ]
  },
  {
   "cell_type": "code",
   "execution_count": 54,
   "metadata": {},
   "outputs": [
    {
     "name": "stdout",
     "output_type": "stream",
     "text": [
      "4\n",
      "[6, [7, 8]]\n",
      "2\n",
      "[7, 8]\n",
      "8\n",
      "8\n"
     ]
    }
   ],
   "source": [
    "my_tuple = (1, 2, ['3', 4, 5], [6, [7, (8)] ] )\n",
    "print (len(my_tuple) )\n",
    "print (my_tuple[3] )\n",
    "print (len(my_tuple[3]) )\n",
    "print (my_tuple[3][1] )\n",
    "print (my_tuple[3][1][1] )\n",
    "# same as above\n",
    "print (my_tuple[-1][-1][-1] )"
   ]
  },
  {
   "cell_type": "code",
   "execution_count": 63,
   "metadata": {},
   "outputs": [
    {
     "name": "stdout",
     "output_type": "stream",
     "text": [
      "[222, 33]\n",
      "(11, [222, 22], 44, 55)\n",
      "[11, [222, 33], 44, 55]\n",
      "[11, [222, 22], 44, 55]\n",
      "(11, [222, 22], 44, 55)\n"
     ]
    }
   ],
   "source": [
    "tuple1 = (11, [222, 33], 44, 55)\n",
    "print (tuple1[1] )\n",
    "tuple1[1][1] = 22\n",
    "print (tuple1)\n",
    "# error\n",
    "# tuple1[2] = 22\n",
    "# tuple1[1] = [222, 22]\n",
    "tuple2 = (11, [222, 33], 44, 55)\n",
    "tmp_list = list( tuple2 )\n",
    "print (tmp_list)\n",
    "tmp_list[1] = [222, 22]\n",
    "print (tmp_list)\n",
    "tuple2 = tuple( tmp_list )\n",
    "print (tuple2)"
   ]
  },
  {
   "cell_type": "code",
   "execution_count": 74,
   "metadata": {},
   "outputs": [
    {
     "name": "stdout",
     "output_type": "stream",
     "text": [
      "(66, 34, 76, 5, 1, 78, 35)\n",
      "[66, 34, 76, 5, 1, 78, 35]\n",
      "(66, 34, 76, 5, 1, 78)\n",
      "(78, 1, 5, 76, 34, 66)\n",
      "(1, 5, 34, 66, 76, 78)\n",
      "1\n",
      "78\n"
     ]
    }
   ],
   "source": [
    "tuple1 = (66, 34, 76)\n",
    "tuple2 = (5, 1, 78, 35)\n",
    "tuple3 = tuple1 + tuple2\n",
    "print (tuple3)\n",
    "tmp_list = list( tuple3 )\n",
    "print (tmp_list)\n",
    "tmp_list.pop()\n",
    "tuple3 = tuple(tmp_list)\n",
    "print(tuple3)\n",
    "print(tuple3[::-1])\n",
    "# tmp_list.sort()\n",
    "tuple3 = tuple( sorted(tuple3) ) \n",
    "print (tuple3)\n",
    "print (tuple3.count(34))\n",
    "print (tuple3[-1])"
   ]
  },
  {
   "cell_type": "markdown",
   "metadata": {},
   "source": [
    "# Range"
   ]
  },
  {
   "cell_type": "code",
   "execution_count": 80,
   "metadata": {},
   "outputs": [
    {
     "name": "stdout",
     "output_type": "stream",
     "text": [
      "range(0, 10)\n",
      "<class 'range'>\n",
      "[0, 1, 2, 3, 4, 5, 6, 7, 8, 9]\n",
      "[5, 6, 7, 8, 9]\n",
      "[5, 8, 11, 14, 17]\n",
      "[100, 85, 70, 55, 40, 25, 10, -5, -20, -35]\n"
     ]
    }
   ],
   "source": [
    "print( range(10) )\n",
    "print( type( range(10) ) )\n",
    "print( list( range(10) ) )\n",
    "print( list( range(5, 10) ) )\n",
    "print( list( range(5, 20, 3) ) )\n",
    "print( list( range(100, -50, -15) ) )"
   ]
  },
  {
   "cell_type": "code",
   "execution_count": 89,
   "metadata": {},
   "outputs": [
    {
     "name": "stdout",
     "output_type": "stream",
     "text": [
      "Vilnius yra nuostabus miestas!\n",
      "praejo vienas ciklas\n",
      "Kaunas yra nuostabus miestas!\n",
      "praejo vienas ciklas\n",
      "Klaipeda yra nuostabus miestas!\n",
      "praejo vienas ciklas\n",
      "pabaiga\n"
     ]
    }
   ],
   "source": [
    "miestai = ['Vilnius', 'Kaunas', 'Klaipeda']\n",
    "\n",
    "# for <any_name> in <list/sequence>:\n",
    "for miestas in miestai:\n",
    "    # print( miestas )\n",
    "    print (f'{miestas} yra nuostabus miestas!')\n",
    "    print('praejo vienas ciklas')\n",
    "print('pabaiga')"
   ]
  },
  {
   "cell_type": "code",
   "execution_count": 88,
   "metadata": {},
   "outputs": [
    {
     "name": "stdout",
     "output_type": "stream",
     "text": [
      "Vilnius yra nuostabus miestas!\n",
      "praejo vienas ciklas\n",
      "Kaunas yra nuostabus miestas!\n",
      "praejo vienas ciklas\n",
      "Klaipeda yra nuostabus miestas!\n",
      "praejo vienas ciklas\n",
      "pabaiga\n"
     ]
    }
   ],
   "source": [
    "for x in miestai:\n",
    "    # print( miestas )\n",
    "    print (f'{x} yra nuostabus miestas!')\n",
    "    print('praejo vienas ciklas')\n",
    "print('pabaiga')"
   ]
  },
  {
   "cell_type": "code",
   "execution_count": null,
   "metadata": {},
   "outputs": [],
   "source": [
    "# b# kitos programavimo kalbos\n",
    "# for miestas in miestai {\n",
    "#     # print( miestas )\n",
    "#     print (f'{miestas} yra nuostabus miestas!')\n",
    "#     print('praejo vienas ciklas')\n",
    "# }\n",
    "    \n",
    "# print('pabaiga')"
   ]
  },
  {
   "cell_type": "code",
   "execution_count": 90,
   "metadata": {},
   "outputs": [
    {
     "name": "stdout",
     "output_type": "stream",
     "text": [
      "1\n",
      "4\n",
      "7\n",
      "10\n",
      "13\n",
      "16\n",
      "19\n",
      "22\n",
      "25\n",
      "28\n",
      "31\n"
     ]
    }
   ],
   "source": [
    "for number in range(1,34,3):\n",
    "    print (number)"
   ]
  },
  {
   "cell_type": "code",
   "execution_count": 94,
   "metadata": {},
   "outputs": [
    {
     "name": "stdout",
     "output_type": "stream",
     "text": [
      "tarpine suma: 165\n",
      "tarpine sandauga: 165\n",
      "tarpine suma: 654\n",
      "tarpine sandauga: 80685\n",
      "tarpine suma: 1086\n",
      "tarpine sandauga: 34855920\n",
      "galutine suma: 1086\n",
      "galutine sandauga: 34855920\n"
     ]
    }
   ],
   "source": [
    "skaiciu_sarasas = [ 165,489,432]\n",
    "suma = 0\n",
    "sandauga = 1\n",
    "for skaicius in skaiciu_sarasas:\n",
    "    suma += skaicius\n",
    "    print (f'tarpine suma: {suma}')\n",
    "    sandauga *= skaicius\n",
    "    print (f'tarpine sandauga: {sandauga}')\n",
    "\n",
    "print(f'galutine suma: {suma}')\n",
    "print (f'galutine sandauga: {sandauga}')"
   ]
  },
  {
   "cell_type": "code",
   "execution_count": 95,
   "metadata": {},
   "outputs": [
    {
     "name": "stdout",
     "output_type": "stream",
     "text": [
      "1086\n"
     ]
    }
   ],
   "source": [
    "print ( sum(skaiciu_sarasas) )"
   ]
  },
  {
   "cell_type": "code",
   "execution_count": 97,
   "metadata": {},
   "outputs": [],
   "source": [
    "ivestas_skaicius = input( 'Irasykite skaiciu' )"
   ]
  },
  {
   "cell_type": "code",
   "execution_count": 99,
   "metadata": {},
   "outputs": [
    {
     "name": "stdout",
     "output_type": "stream",
     "text": [
      "654\n",
      "654\n"
     ]
    }
   ],
   "source": [
    "print (ivestas_skaicius)\n",
    "skaicius = int(ivestas_skaicius)\n",
    "print (skaicius)"
   ]
  },
  {
   "cell_type": "code",
   "execution_count": 101,
   "metadata": {},
   "outputs": [
    {
     "name": "stdout",
     "output_type": "stream",
     "text": [
      "0\n",
      "1\n",
      "2\n",
      "3\n",
      "4\n",
      "5\n",
      "6\n",
      "7\n",
      "8\n",
      "9\n",
      "10\n",
      "antra dalis\n",
      "1275\n"
     ]
    }
   ],
   "source": [
    "for skaicius in range (0,11):\n",
    "    print(skaicius)\n",
    "\n",
    "print ('antra dalis')\n",
    "suma = 0\n",
    "for skaicius in range (0,51):\n",
    "    suma = suma + skaicius\n",
    "print(suma)\n"
   ]
  },
  {
   "cell_type": "code",
   "execution_count": 103,
   "metadata": {},
   "outputs": [
    {
     "name": "stdout",
     "output_type": "stream",
     "text": [
      "1\n",
      "4\n",
      "7\n",
      "10\n",
      "13\n",
      "16\n",
      "19\n",
      "22\n",
      "25\n",
      "28\n",
      "31\n",
      "po ciklo 31\n"
     ]
    }
   ],
   "source": [
    "number = [15, 59, 62, 89, 56,]\n",
    "for number in range(1,34,3):\n",
    "    print(number)\n",
    "\n",
    "\n",
    "print ('po ciklo', number)\n"
   ]
  },
  {
   "cell_type": "code",
   "execution_count": 105,
   "metadata": {},
   "outputs": [
    {
     "name": "stdout",
     "output_type": "stream",
     "text": [
      "<class 'str'>\n"
     ]
    }
   ],
   "source": [
    "ivestas_skaicius = input( 'Irasykite skaiciu' )\n",
    "print (type(ivestas_skaicius))"
   ]
  },
  {
   "cell_type": "markdown",
   "metadata": {},
   "source": [
    "5 * 1\\\n",
    "5 * 2\\\n",
    "5 * 3\\\n",
    "...\\\n",
    "5 * 10\\"
   ]
  },
  {
   "cell_type": "code",
   "execution_count": 108,
   "metadata": {},
   "outputs": [
    {
     "name": "stdout",
     "output_type": "stream",
     "text": [
      "9\n",
      "18\n",
      "27\n",
      "36\n",
      "45\n",
      "54\n",
      "63\n",
      "72\n",
      "81\n",
      "90\n"
     ]
    }
   ],
   "source": [
    "skaicius = input('iveskite skaiciu')\n",
    "skaicius = int(skaicius)\n",
    "\n",
    "for x in range(1,11):\n",
    "    print(x * skaicius)\n"
   ]
  },
  {
   "cell_type": "code",
   "execution_count": 121,
   "metadata": {},
   "outputs": [
    {
     "name": "stdout",
     "output_type": "stream",
     "text": [
      "didelio ciklo pradzia\n",
      "mazas ciklas. Pirmadienis 10\n",
      "mazas ciklas. Pirmadienis 11\n",
      "mazas ciklas. Pirmadienis 12\n",
      "mazas ciklas. Pirmadienis 13\n",
      "mazas ciklas. Pirmadienis 14\n",
      "mazas ciklas. Pirmadienis 15\n",
      "mazas ciklas. Pirmadienis 16\n",
      "mazas ciklas. Pirmadienis 17\n",
      "mazas ciklas. Pirmadienis 18\n",
      "mazas ciklas. Pirmadienis 19\n",
      "didelio ciklo pabaiga\n",
      "didelio ciklo pradzia\n",
      "mazas ciklas. Antradienis 10\n",
      "mazas ciklas. Antradienis 11\n",
      "mazas ciklas. Antradienis 12\n",
      "mazas ciklas. Antradienis 13\n",
      "mazas ciklas. Antradienis 14\n",
      "mazas ciklas. Antradienis 15\n",
      "mazas ciklas. Antradienis 16\n",
      "mazas ciklas. Antradienis 17\n",
      "mazas ciklas. Antradienis 18\n",
      "mazas ciklas. Antradienis 19\n",
      "didelio ciklo pabaiga\n",
      "didelio ciklo pradzia\n",
      "mazas ciklas. Treciadienis 10\n",
      "mazas ciklas. Treciadienis 11\n",
      "mazas ciklas. Treciadienis 12\n",
      "mazas ciklas. Treciadienis 13\n",
      "mazas ciklas. Treciadienis 14\n",
      "mazas ciklas. Treciadienis 15\n",
      "mazas ciklas. Treciadienis 16\n",
      "mazas ciklas. Treciadienis 17\n",
      "mazas ciklas. Treciadienis 18\n",
      "mazas ciklas. Treciadienis 19\n",
      "didelio ciklo pabaiga\n",
      "didelio ciklo pradzia\n",
      "mazas ciklas. Ketvirtadienis 10\n",
      "mazas ciklas. Ketvirtadienis 11\n",
      "mazas ciklas. Ketvirtadienis 12\n",
      "mazas ciklas. Ketvirtadienis 13\n",
      "mazas ciklas. Ketvirtadienis 14\n",
      "mazas ciklas. Ketvirtadienis 15\n",
      "mazas ciklas. Ketvirtadienis 16\n",
      "mazas ciklas. Ketvirtadienis 17\n",
      "mazas ciklas. Ketvirtadienis 18\n",
      "mazas ciklas. Ketvirtadienis 19\n",
      "didelio ciklo pabaiga\n",
      "didelio ciklo pradzia\n",
      "mazas ciklas. Penktadienis 10\n",
      "mazas ciklas. Penktadienis 11\n",
      "mazas ciklas. Penktadienis 12\n",
      "mazas ciklas. Penktadienis 13\n",
      "mazas ciklas. Penktadienis 14\n",
      "mazas ciklas. Penktadienis 15\n",
      "mazas ciklas. Penktadienis 16\n",
      "mazas ciklas. Penktadienis 17\n",
      "mazas ciklas. Penktadienis 18\n",
      "mazas ciklas. Penktadienis 19\n",
      "didelio ciklo pabaiga\n",
      "didelio ciklo pradzia\n",
      "mazas ciklas. Sestadienis 10\n",
      "mazas ciklas. Sestadienis 11\n",
      "mazas ciklas. Sestadienis 12\n",
      "mazas ciklas. Sestadienis 13\n",
      "mazas ciklas. Sestadienis 14\n",
      "mazas ciklas. Sestadienis 15\n",
      "mazas ciklas. Sestadienis 16\n",
      "mazas ciklas. Sestadienis 17\n",
      "mazas ciklas. Sestadienis 18\n",
      "mazas ciklas. Sestadienis 19\n",
      "didelio ciklo pabaiga\n",
      "didelio ciklo pradzia\n",
      "mazas ciklas. Sekmadienis 10\n",
      "mazas ciklas. Sekmadienis 11\n",
      "mazas ciklas. Sekmadienis 12\n",
      "mazas ciklas. Sekmadienis 13\n",
      "mazas ciklas. Sekmadienis 14\n",
      "mazas ciklas. Sekmadienis 15\n",
      "mazas ciklas. Sekmadienis 16\n",
      "mazas ciklas. Sekmadienis 17\n",
      "mazas ciklas. Sekmadienis 18\n",
      "mazas ciklas. Sekmadienis 19\n",
      "didelio ciklo pabaiga\n",
      "[('Pirmadienis', 10), ('Pirmadienis', 11), ('Pirmadienis', 12), ('Pirmadienis', 13), ('Pirmadienis', 14), ('Pirmadienis', 15), ('Pirmadienis', 16), ('Pirmadienis', 17), ('Pirmadienis', 18), ('Pirmadienis', 19), ('Antradienis', 10), ('Antradienis', 11), ('Antradienis', 12), ('Antradienis', 13), ('Antradienis', 14), ('Antradienis', 15), ('Antradienis', 16), ('Antradienis', 17), ('Antradienis', 18), ('Antradienis', 19), ('Treciadienis', 10), ('Treciadienis', 11), ('Treciadienis', 12), ('Treciadienis', 13), ('Treciadienis', 14), ('Treciadienis', 15), ('Treciadienis', 16), ('Treciadienis', 17), ('Treciadienis', 18), ('Treciadienis', 19), ('Ketvirtadienis', 10), ('Ketvirtadienis', 11), ('Ketvirtadienis', 12), ('Ketvirtadienis', 13), ('Ketvirtadienis', 14), ('Ketvirtadienis', 15), ('Ketvirtadienis', 16), ('Ketvirtadienis', 17), ('Ketvirtadienis', 18), ('Ketvirtadienis', 19), ('Penktadienis', 10), ('Penktadienis', 11), ('Penktadienis', 12), ('Penktadienis', 13), ('Penktadienis', 14), ('Penktadienis', 15), ('Penktadienis', 16), ('Penktadienis', 17), ('Penktadienis', 18), ('Penktadienis', 19), ('Sestadienis', 10), ('Sestadienis', 11), ('Sestadienis', 12), ('Sestadienis', 13), ('Sestadienis', 14), ('Sestadienis', 15), ('Sestadienis', 16), ('Sestadienis', 17), ('Sestadienis', 18), ('Sestadienis', 19), ('Sekmadienis', 10), ('Sekmadienis', 11), ('Sekmadienis', 12), ('Sekmadienis', 13), ('Sekmadienis', 14), ('Sekmadienis', 15), ('Sekmadienis', 16), ('Sekmadienis', 17), ('Sekmadienis', 18), ('Sekmadienis', 19)]\n"
     ]
    }
   ],
   "source": [
    "dienos = ('Pirmadienis', 'Antradienis', 'Treciadienis', 'Ketvirtadienis', 'Penktadienis', 'Sestadienis' , 'Sekmadienis')\n",
    "valandos = [10, 11, 12, 13, 14, 15, 16, 17, 18, 19]\n",
    "\n",
    "kombinacijos = []\n",
    "for diena in dienos:\n",
    "    # print(diena)\n",
    "    print ('didelio ciklo pradzia')\n",
    "    for valanda in valandos:\n",
    "        # print (diena, valanda)\n",
    "        # print(valanda)\n",
    "        kombinacijos.append( (diena, valanda) )\n",
    "        print (f'mazas ciklas. {diena} {valanda}')\n",
    "    print ('didelio ciklo pabaiga')\n",
    "\n",
    "print (kombinacijos)\n",
    "\n",
    "\n"
   ]
  },
  {
   "cell_type": "code",
   "execution_count": 132,
   "metadata": {},
   "outputs": [
    {
     "name": "stdout",
     "output_type": "stream",
     "text": [
      "tau yra tarp 4 ir 8 metu\n",
      "pabaiga\n"
     ]
    }
   ],
   "source": [
    "age = int( input (\"iveskite amziu:\" ) )\n",
    "\n",
    "if age >= 18 :\n",
    "    print(f'Jums yra {age}, jus estate pilnametis')\n",
    "elif age > 12:\n",
    "    print ('tau yra tarp 12 ir 18 metu')\n",
    "elif age > 8:\n",
    "    print ('tau yra tarp 8 ir 12 metu')\n",
    "elif age > 4:\n",
    "    print ('tau yra tarp 4 ir 8 metu')\n",
    "else:\n",
    "    print(f'Jums yra {age}, dar teks paaugti')\n",
    "\n",
    "print('pabaiga')"
   ]
  },
  {
   "cell_type": "code",
   "execution_count": 1,
   "metadata": {},
   "outputs": [
    {
     "name": "stdout",
     "output_type": "stream",
     "text": [
      "lyginis\n",
      "1.0\n"
     ]
    }
   ],
   "source": [
    "x = int( input (\"iveskite skaiciu:\" ) )\n",
    "\n",
    "if x % 2 == 0:\n",
    "    print ('lyginis')\n",
    "    x /= 2\n",
    "else:\n",
    "    print ('nelygnis')\n",
    "    x *= 4\n",
    "\n",
    "print(x)\n"
   ]
  },
  {
   "cell_type": "code",
   "execution_count": 138,
   "metadata": {},
   "outputs": [
    {
     "name": "stdout",
     "output_type": "stream",
     "text": [
      "x: 11, y: 35\n",
      "nelygnis\n",
      "44\n",
      "0.7954545454545454\n"
     ]
    }
   ],
   "source": [
    "x = int( input (\"iveskite skaiciu:\" ) )\n",
    "y = int( input (\"iveskite antra skaiciu:\" ) )\n",
    "print (f'x: {x}, y: {y}')\n",
    "\n",
    "if x % 2 == 0:\n",
    "    print ('lyginis')\n",
    "    x /= 2\n",
    "    if y >= 10:\n",
    "        y = x * y\n",
    "    else:\n",
    "        y -= 2\n",
    "else:\n",
    "    print ('nelygnis')\n",
    "    x *= 4\n",
    "    if y >= 20:\n",
    "        y = y / x\n",
    "    else:\n",
    "        y += 5\n",
    "\n",
    "print(x)\n",
    "print(y)"
   ]
  },
  {
   "cell_type": "code",
   "execution_count": null,
   "metadata": {},
   "outputs": [],
   "source": []
  }
 ],
 "metadata": {
  "kernelspec": {
   "display_name": "Python 3.10.6 64-bit",
   "language": "python",
   "name": "python3"
  },
  "language_info": {
   "codemirror_mode": {
    "name": "ipython",
    "version": 3
   },
   "file_extension": ".py",
   "mimetype": "text/x-python",
   "name": "python",
   "nbconvert_exporter": "python",
   "pygments_lexer": "ipython3",
   "version": "3.10.6"
  },
  "orig_nbformat": 4,
  "vscode": {
   "interpreter": {
    "hash": "e5c659902e25f6e168175e0a23e35de31816c23dea96122aa0d533fce758bf79"
   }
  }
 },
 "nbformat": 4,
 "nbformat_minor": 2
}
