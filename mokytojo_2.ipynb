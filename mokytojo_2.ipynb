{
 "cells": [
  {
   "cell_type": "code",
   "execution_count": 1,
   "metadata": {},
   "outputs": [],
   "source": [
    "text = \"Hello world World\""
   ]
  },
  {
   "cell_type": "code",
   "execution_count": 5,
   "metadata": {},
   "outputs": [
    {
     "name": "stdout",
     "output_type": "stream",
     "text": [
      "False\n",
      "True\n",
      "False\n",
      "True\n"
     ]
    }
   ],
   "source": [
    "\n",
    "print (text.isdigit() )\n",
    "print ('1973'.isdigit() )\n",
    "print ('1973 '.isdigit() )\n",
    "print ('1973 '.strip().isdigit() )"
   ]
  },
  {
   "cell_type": "code",
   "execution_count": 7,
   "metadata": {},
   "outputs": [
    {
     "name": "stdout",
     "output_type": "stream",
     "text": [
      "   Hello world World      \n",
      "Hello world World\n"
     ]
    }
   ],
   "source": [
    "text = \"   Hello world World      \"\n",
    "print (text)\n",
    "print (text.strip())"
   ]
  },
  {
   "cell_type": "code",
   "execution_count": 10,
   "metadata": {},
   "outputs": [
    {
     "name": "stdout",
     "output_type": "stream",
     "text": [
      "   Hello\n",
      "world\n",
      "World      \n",
      "   Hello world World      \n"
     ]
    }
   ],
   "source": [
    "text = \"   Hello\\nworld\\nWorld      \"\n",
    "print (text)\n",
    "print (text.replace('\\n', ' '))"
   ]
  },
  {
   "cell_type": "code",
   "execution_count": 12,
   "metadata": {},
   "outputs": [
    {
     "name": "stdout",
     "output_type": "stream",
     "text": [
      "   Hello\n",
      "hello\n",
      "Lithuania      \n",
      "   Hello\n",
      "world\n",
      "World      \n"
     ]
    }
   ],
   "source": [
    "print (text.replace('world', 'hello').replace('World', 'Lithuania') )\n",
    "print (text.replace('world World', 'hello Lithuania') )"
   ]
  },
  {
   "cell_type": "code",
   "execution_count": 22,
   "metadata": {},
   "outputs": [
    {
     "name": "stdout",
     "output_type": "stream",
     "text": [
      "MY NAME IS DARIUS, I LIVE IN VILNIUS VILNIUS\n",
      "my name is darius, i live in vilnius vilnius\n",
      "My name is darius, i live in vilnius vilnius\n",
      "1\n",
      "2\n",
      "11\n",
      "My name is \n",
      "My name is Darius\n"
     ]
    }
   ],
   "source": [
    "text_2 = 'My name is Darius, I live in Vilnius vilnius'\n",
    "print( text_2.upper() )\n",
    "print( text_2.lower() )\n",
    "print( text_2.capitalize() )\n",
    "print( text_2.count('Vilnius') )\n",
    "print( text_2.lower().count('vilnius') )\n",
    "print( text_2.find('Darius'))\n",
    "print( text_2[ 0 : text_2.find('Darius') ] )\n",
    "print( text_2[ 0 : text_2.find('Darius') + len('Darius') ] )"
   ]
  },
  {
   "cell_type": "code",
   "execution_count": 25,
   "metadata": {},
   "outputs": [
    {
     "name": "stdout",
     "output_type": "stream",
     "text": [
      "My name is , I live in Vilnius Darius\n",
      "My name is , I live in Vilnius Darius\n",
      "Darius vilnius\n"
     ]
    }
   ],
   "source": [
    "text_2 = 'My name is , I live in Vilnius Darius vilnius'\n",
    "print( text_2[ 0 : text_2.find('Darius') + len('Darius') ] )\n",
    "print( text_2[ :text_2.find('Darius') + len('Darius') ] ) # same\n",
    "print( text_2[ text_2.find('Darius') : ] )"
   ]
  },
  {
   "cell_type": "markdown",
   "metadata": {},
   "source": [
    "### string operations"
   ]
  },
  {
   "cell_type": "code",
   "execution_count": 27,
   "metadata": {},
   "outputs": [
    {
     "data": {
      "text/plain": [
       "'Darius Grigalius'"
      ]
     },
     "execution_count": 27,
     "metadata": {},
     "output_type": "execute_result"
    }
   ],
   "source": [
    "'Darius' + ' ' + 'Grigalius'"
   ]
  },
  {
   "cell_type": "code",
   "execution_count": 28,
   "metadata": {},
   "outputs": [
    {
     "ename": "TypeError",
     "evalue": "unsupported operand type(s) for -: 'str' and 'str'",
     "output_type": "error",
     "traceback": [
      "\u001b[1;31m---------------------------------------------------------------------------\u001b[0m",
      "\u001b[1;31mTypeError\u001b[0m                                 Traceback (most recent call last)",
      "\u001b[1;32mc:\\Users\\Robotux\\Documents\\Python\\20220830VCSPYTVAK\\lesson_2.ipynb Cell 10\u001b[0m in \u001b[0;36m<module>\u001b[1;34m\u001b[0m\n\u001b[1;32m----> <a href='vscode-notebook-cell:/c%3A/Users/Robotux/Documents/Python/20220830VCSPYTVAK/lesson_2.ipynb#X11sZmlsZQ%3D%3D?line=0'>1</a>\u001b[0m \u001b[39m'\u001b[39;49m\u001b[39mGrigalius\u001b[39;49m\u001b[39m'\u001b[39;49m \u001b[39m-\u001b[39;49m \u001b[39m'\u001b[39;49m\u001b[39mi\u001b[39;49m\u001b[39m'\u001b[39;49m\n",
      "\u001b[1;31mTypeError\u001b[0m: unsupported operand type(s) for -: 'str' and 'str'"
     ]
    }
   ],
   "source": [
    "# 'Grigalius' - 'i' # Doesn't work"
   ]
  },
  {
   "cell_type": "code",
   "execution_count": 29,
   "metadata": {},
   "outputs": [
    {
     "data": {
      "text/plain": [
       "'hi hi hi hi hi hi hi hi hi hi hi hi hi hi hi hi hi hi hi hi hi hi hi hi hi hi hi hi hi hi hi hi hi hi hi hi hi hi hi hi hi hi hi hi hi hi hi hi hi hi hi hi hi hi hi hi hi hi hi hi hi hi hi hi hi hi hi hi hi hi hi hi hi hi hi hi hi hi hi hi hi hi hi hi hi hi hi hi hi hi hi hi hi hi hi hi hi hi hi hi '"
      ]
     },
     "execution_count": 29,
     "metadata": {},
     "output_type": "execute_result"
    }
   ],
   "source": [
    "'hi ' * 100"
   ]
  },
  {
   "cell_type": "code",
   "execution_count": 30,
   "metadata": {},
   "outputs": [
    {
     "ename": "TypeError",
     "evalue": "unsupported operand type(s) for /: 'str' and 'str'",
     "output_type": "error",
     "traceback": [
      "\u001b[1;31m---------------------------------------------------------------------------\u001b[0m",
      "\u001b[1;31mTypeError\u001b[0m                                 Traceback (most recent call last)",
      "\u001b[1;32mc:\\Users\\Robotux\\Documents\\Python\\20220830VCSPYTVAK\\lesson_2.ipynb Cell 12\u001b[0m in \u001b[0;36m<module>\u001b[1;34m\u001b[0m\n\u001b[1;32m----> <a href='vscode-notebook-cell:/c%3A/Users/Robotux/Documents/Python/20220830VCSPYTVAK/lesson_2.ipynb#X14sZmlsZQ%3D%3D?line=0'>1</a>\u001b[0m \u001b[39m'\u001b[39;49m\u001b[39mGrigalius\u001b[39;49m\u001b[39m'\u001b[39;49m \u001b[39m/\u001b[39;49m \u001b[39m'\u001b[39;49m\u001b[39mi\u001b[39;49m\u001b[39m'\u001b[39;49m\n",
      "\u001b[1;31mTypeError\u001b[0m: unsupported operand type(s) for /: 'str' and 'str'"
     ]
    }
   ],
   "source": [
    "# 'Grigalius' / 'i' # Doesn't work"
   ]
  },
  {
   "cell_type": "markdown",
   "metadata": {},
   "source": [
    "### f-string"
   ]
  },
  {
   "cell_type": "code",
   "execution_count": 45,
   "metadata": {},
   "outputs": [
    {
     "name": "stdout",
     "output_type": "stream",
     "text": [
      "Darius Grigalius 51, nice to meet you!\n",
      "Darius Grigalius 51, nice to meet you!\n",
      "{name                        } {surname} {number}, nice to meet you!\n",
      "Darius grigalius 61, nice to meet you!\n",
      "Darius grigalius               61, nice to meet you!\n",
      "DARIUS grigalius               61, nice to meet you!\n"
     ]
    }
   ],
   "source": [
    "name = 'Darius'\n",
    "surname = 'Grigalius'\n",
    "number = 51\n",
    "print( name + ' ' + surname + ' ' + str(number) + ', nice to meet you!' )\n",
    "print( f'{name                        } {surname} {number}, nice to meet you!')\n",
    "print( '{name                        } {surname} {number}, nice to meet you!')\n",
    "print( f'{name                        } {surname.lower()} {number + 10}, nice to meet you!')\n",
    "print( f'{name                        } {surname.lower()}               {number + 10}, nice to meet you!')\n",
    "print( f'{name.upper()                        } {surname.lower()}               {number + 10}, nice to meet you!')"
   ]
  },
  {
   "cell_type": "code",
   "execution_count": 47,
   "metadata": {},
   "outputs": [
    {
     "name": "stdout",
     "output_type": "stream",
     "text": [
      "DariusHHHDariusHHHDariusHHHDariusHHHDarius\n"
     ]
    }
   ],
   "source": [
    "print ('Darius', 'Darius', 'Darius','Darius','Darius',sep=\"HHH\")"
   ]
  },
  {
   "cell_type": "code",
   "execution_count": 58,
   "metadata": {},
   "outputs": [
    {
     "name": "stdout",
     "output_type": "stream",
     "text": [
      "happy\n",
      "happy\n",
      "Python\n"
     ]
    }
   ],
   "source": [
    "text = 'Hello World, I am happy to learn Python!'\n",
    "look_word = 'happy'\n",
    "print(text[18:23])\n",
    "print(text[text.find(look_word):text.find(look_word) + len(look_word)])\n",
    "look_word = 'Python'\n",
    "print(text[text.find(look_word):text.find(look_word) + len(look_word)])"
   ]
  },
  {
   "cell_type": "markdown",
   "metadata": {},
   "source": [
    "# Numbers"
   ]
  },
  {
   "cell_type": "code",
   "execution_count": 61,
   "metadata": {},
   "outputs": [],
   "source": [
    "number = 51684\n",
    "\n",
    "float_number = 1436.41\n",
    "float_number_2 = 1436."
   ]
  },
  {
   "cell_type": "code",
   "execution_count": 62,
   "metadata": {},
   "outputs": [
    {
     "name": "stdout",
     "output_type": "stream",
     "text": [
      "<class 'int'>\n",
      "<class 'float'>\n",
      "<class 'float'>\n"
     ]
    }
   ],
   "source": [
    "print ( type(number) )\n",
    "print ( type(float_number) )\n",
    "print ( type(float_number_2) )"
   ]
  },
  {
   "cell_type": "markdown",
   "metadata": {},
   "source": [
    "## operations"
   ]
  },
  {
   "cell_type": "code",
   "execution_count": 73,
   "metadata": {},
   "outputs": [
    {
     "name": "stdout",
     "output_type": "stream",
     "text": [
      "53120.41 yra <class 'float'>\n",
      "5\n",
      "50\n",
      "2.0\n",
      "2\n",
      "3\n",
      "liekana\n",
      "0\n",
      "1\n",
      "2\n",
      "3\n",
      "4\n",
      "0\n"
     ]
    }
   ],
   "source": [
    "suma = number + float_number\n",
    "print (f'{suma} yra {type(suma)}')\n",
    "print (10 - 5)\n",
    "print (10 * 5)\n",
    "print (10 / 5)\n",
    "print (13 // 5) # sveika dalis\n",
    "print (17 // 5) \n",
    "\n",
    "# liekana\n",
    "print ('liekana')\n",
    "print (15 % 5) \n",
    "print (16 % 5) \n",
    "print (17 % 5) \n",
    "print (18 % 5) \n",
    "print (19 % 5) \n",
    "print (20 % 5) "
   ]
  },
  {
   "cell_type": "code",
   "execution_count": null,
   "metadata": {},
   "outputs": [],
   "source": [
    "# int\n",
    "# float\n",
    "# str"
   ]
  },
  {
   "cell_type": "code",
   "execution_count": 78,
   "metadata": {},
   "outputs": [
    {
     "name": "stdout",
     "output_type": "stream",
     "text": [
      "4\n",
      "8\n",
      "16\n",
      "9\n"
     ]
    }
   ],
   "source": [
    "# kelimas laipsniu\n",
    "print( 2 ** 2 )\n",
    "print( 2 ** 3 )\n",
    "print( 2 ** 4 )\n",
    "print( 3 ** 2 )"
   ]
  },
  {
   "cell_type": "code",
   "execution_count": 79,
   "metadata": {},
   "outputs": [
    {
     "name": "stdout",
     "output_type": "stream",
     "text": [
      "15\n",
      "-5\n",
      "50\n",
      "0.5\n",
      "5\n"
     ]
    }
   ],
   "source": [
    "int_1 = 5\n",
    "int_2 = 10\n",
    "\n",
    "print (int_1 + int_2)\n",
    "print (int_1 - int_2)\n",
    "print (int_1 * int_2)\n",
    "print (int_1 / int_2)\n",
    "print (int_1 % int_2)"
   ]
  },
  {
   "cell_type": "code",
   "execution_count": 80,
   "metadata": {},
   "outputs": [
    {
     "name": "stdout",
     "output_type": "stream",
     "text": [
      "16.04\n",
      "-5.039999999999999\n",
      "57.97\n",
      "0.5218216318785579\n",
      "5.5\n"
     ]
    }
   ],
   "source": [
    "float_1 = 5.5\n",
    "float_2 = 10.54\n",
    "\n",
    "print (float_1 + float_2)\n",
    "print (float_1 - float_2)\n",
    "print (float_1 * float_2)\n",
    "print (float_1 / float_2)\n",
    "print (float_1 % float_2)"
   ]
  },
  {
   "cell_type": "code",
   "execution_count": 84,
   "metadata": {},
   "outputs": [
    {
     "name": "stdout",
     "output_type": "stream",
     "text": [
      "Atstumas iki saules yra 390.625 kartu didesnis nei atstumas iki menulio \n",
      "2560.0\n",
      "106.66666666666667\n",
      "3.5555555555555554\n",
      "0.2962962962962963\n",
      "153600.0\n",
      "9216000.0\n"
     ]
    }
   ],
   "source": [
    "dist_sun = 150_000_000 # same as dist_sun = 150000000\n",
    "dist_moon = 384_000\n",
    "\n",
    "speed_per_hour = 150\n",
    "\n",
    "day = speed_per_hour * 24\n",
    "month = day * 30\n",
    "year = month * 12\n",
    "minutes = speed_per_hour/60\n",
    "seconds = minutes/60\n",
    "\n",
    "print(f'Atstumas iki saules yra {dist_sun / dist_moon} kartu didesnis nei atstumas iki menulio ')\n",
    "\n",
    "print(dist_moon/speed_per_hour)\n",
    "print(dist_moon/day)\n",
    "print(dist_moon/month)\n",
    "print(dist_moon/year)\n",
    "print(dist_moon/minutes)\n",
    "print(dist_moon/seconds)"
   ]
  },
  {
   "cell_type": "code",
   "execution_count": 87,
   "metadata": {},
   "outputs": [
    {
     "name": "stdout",
     "output_type": "stream",
     "text": [
      "19872 days, 20:09:11.314310\n",
      "19872\n"
     ]
    }
   ],
   "source": [
    "from datetime import datetime\n",
    "\n",
    "birthday = datetime(1968, 4,5)\n",
    "now = datetime.now()\n",
    "time_passed = now - birthday\n",
    "print (time_passed)\n",
    "print (time_passed.days)\n"
   ]
  },
  {
   "cell_type": "code",
   "execution_count": 89,
   "metadata": {},
   "outputs": [
    {
     "name": "stdout",
     "output_type": "stream",
     "text": [
      "4\n",
      "11\n",
      "2020\n"
     ]
    }
   ],
   "source": [
    "date = datetime.strptime(\"2020/11/04\", '%Y/%m/%d') \n",
    "print (date.day)\n",
    "print (date.month)\n",
    "print (date.year)"
   ]
  },
  {
   "cell_type": "code",
   "execution_count": 95,
   "metadata": {},
   "outputs": [
    {
     "name": "stdout",
     "output_type": "stream",
     "text": [
      "<class 'bool'>\n",
      "True\n",
      "True\n",
      "False\n",
      "True\n",
      "True\n"
     ]
    }
   ],
   "source": [
    "bool_1 = True\n",
    "bool_2 = False\n",
    "print( type(bool_1))\n",
    "print(bool_1)\n",
    "number = 1\n",
    "print( bool(number) )\n",
    "number = 0\n",
    "print( bool(number) )\n",
    "number = 0.5\n",
    "print( bool(number) )\n",
    "number = -0.000001\n",
    "print( bool(number) )\n",
    "# False tampa tik 0, visi kiti True"
   ]
  },
  {
   "cell_type": "code",
   "execution_count": 103,
   "metadata": {},
   "outputs": [
    {
     "name": "stdout",
     "output_type": "stream",
     "text": [
      "False\n",
      "True\n",
      "False\n",
      "True\n",
      "True\n",
      "False\n",
      "nelygus\n",
      "True\n",
      "False\n"
     ]
    }
   ],
   "source": [
    "print (2 > 5)\n",
    "print (2 < 5)\n",
    "print (5 > 5)\n",
    "print (5 >= 5)\n",
    "print (5 == 5)\n",
    "print (10 == 5)\n",
    "\n",
    "print ('nelygus')\n",
    "print(10 != 5)\n",
    "print(10 != 10)"
   ]
  },
  {
   "cell_type": "code",
   "execution_count": 106,
   "metadata": {},
   "outputs": [
    {
     "name": "stdout",
     "output_type": "stream",
     "text": [
      "True\n"
     ]
    }
   ],
   "source": [
    "text = 'Hello world'\n",
    "bool_4 = 'o' in text\n",
    "print (bool_4)"
   ]
  },
  {
   "cell_type": "code",
   "execution_count": 110,
   "metadata": {},
   "outputs": [
    {
     "name": "stdout",
     "output_type": "stream",
     "text": [
      "True\n",
      "False\n",
      "True\n",
      "False\n"
     ]
    }
   ],
   "source": [
    "print (bool_1)\n",
    "print(bool_1 == 0.999)\n",
    "print(bool_1 == bool(0.999) )\n",
    "print( 0.999 == bool_1  )"
   ]
  },
  {
   "cell_type": "code",
   "execution_count": 112,
   "metadata": {},
   "outputs": [
    {
     "name": "stdout",
     "output_type": "stream",
     "text": [
      "False\n",
      "True\n"
     ]
    }
   ],
   "source": [
    "print (bool(0.0))\n",
    "print (bool(0.01))"
   ]
  },
  {
   "cell_type": "code",
   "execution_count": 115,
   "metadata": {},
   "outputs": [
    {
     "name": "stdout",
     "output_type": "stream",
     "text": [
      "False\n",
      "True\n",
      "True\n"
     ]
    }
   ],
   "source": [
    "print (bool(''))\n",
    "print (bool(' '))\n",
    "print (bool('Hello'))"
   ]
  },
  {
   "cell_type": "code",
   "execution_count": 118,
   "metadata": {},
   "outputs": [
    {
     "name": "stdout",
     "output_type": "stream",
     "text": [
      "True\n",
      "False\n",
      "True\n"
     ]
    }
   ],
   "source": [
    "print ( True )\n",
    "print (not True )\n",
    "print (not not True )"
   ]
  },
  {
   "cell_type": "code",
   "execution_count": 122,
   "metadata": {},
   "outputs": [
    {
     "name": "stdout",
     "output_type": "stream",
     "text": [
      "and\n",
      "True\n",
      "False\n",
      "or\n",
      "True\n",
      "True\n",
      "False\n"
     ]
    }
   ],
   "source": [
    "print ('and')\n",
    "print (20 > 10 and 5 > 1)\n",
    "print (20 > 10 and 5 > 10)\n",
    "print ('or')\n",
    "print (20 > 10 or 5 > 1)\n",
    "print (20 > 10 or 5 > 10)\n",
    "print (2 > 10 or 5 > 10)"
   ]
  },
  {
   "cell_type": "code",
   "execution_count": 123,
   "metadata": {},
   "outputs": [
    {
     "data": {
      "text/plain": [
       "False"
      ]
     },
     "execution_count": 123,
     "metadata": {},
     "output_type": "execute_result"
    }
   ],
   "source": [
    "'hello' in 'Hello world' and 5 > 1 or 52 < 52"
   ]
  },
  {
   "cell_type": "markdown",
   "metadata": {},
   "source": [
    "# Lists"
   ]
  },
  {
   "cell_type": "code",
   "execution_count": 124,
   "metadata": {},
   "outputs": [],
   "source": [
    "cities = [ 'Vilnius', 'Kaunas', 'Klaipeda' ]"
   ]
  },
  {
   "cell_type": "code",
   "execution_count": 128,
   "metadata": {},
   "outputs": [
    {
     "name": "stdout",
     "output_type": "stream",
     "text": [
      "Vilnius\n",
      "<class 'str'>\n",
      "Klaipeda\n",
      "['Vilnius', 'Kaunas']\n",
      "<class 'list'>\n"
     ]
    }
   ],
   "source": [
    "print( cities[0])\n",
    "print( type( cities[0] ) )\n",
    "print( cities[-1])\n",
    "print( cities[:2])\n",
    "print( type( cities[:2] ) )"
   ]
  },
  {
   "cell_type": "code",
   "execution_count": 134,
   "metadata": {},
   "outputs": [
    {
     "name": "stdout",
     "output_type": "stream",
     "text": [
      "<class 'int'>\n",
      "<class 'str'>\n",
      "[8546, 847, 358]\n"
     ]
    }
   ],
   "source": [
    "numbers = [ 1,8546,847,358,'vienas']\n",
    "print( type( numbers[0] ) )\n",
    "print( type( numbers[-1] ) )\n",
    "print( numbers[1:4] )\n"
   ]
  },
  {
   "cell_type": "code",
   "execution_count": 136,
   "metadata": {},
   "outputs": [
    {
     "name": "stdout",
     "output_type": "stream",
     "text": [
      "5\n",
      "6\n"
     ]
    }
   ],
   "source": [
    "print (len(numbers) )\n",
    "print (len(numbers[-1]) )"
   ]
  },
  {
   "cell_type": "code",
   "execution_count": 139,
   "metadata": {},
   "outputs": [
    {
     "name": "stdout",
     "output_type": "stream",
     "text": [
      "[1, 8546, 847, 358, 500, 500, 10]\n"
     ]
    }
   ],
   "source": [
    "numbers = [ 1,8546,847,358 ]\n",
    "numbers.append(500)\n",
    "numbers.append(500)\n",
    "numbers.append(10)\n",
    "print (numbers)"
   ]
  },
  {
   "cell_type": "code",
   "execution_count": 153,
   "metadata": {},
   "outputs": [
    {
     "name": "stdout",
     "output_type": "stream",
     "text": [
      "[1, 8546, 847, 358, 500, 500, 10, 10, 10, 10, 10, 10, 10, 10, 10, 10, 10, 10, 10, 10, 10]\n"
     ]
    }
   ],
   "source": [
    "# updates list\n",
    "# numbers.append(10)\n",
    "print (numbers)"
   ]
  },
  {
   "cell_type": "code",
   "execution_count": 154,
   "metadata": {},
   "outputs": [
    {
     "data": {
      "text/plain": [
       "15"
      ]
     },
     "execution_count": 154,
     "metadata": {},
     "output_type": "execute_result"
    }
   ],
   "source": [
    "numbers.count(10)"
   ]
  },
  {
   "cell_type": "code",
   "execution_count": 157,
   "metadata": {},
   "outputs": [
    {
     "name": "stdout",
     "output_type": "stream",
     "text": [
      "None\n"
     ]
    }
   ],
   "source": [
    "# numbers.insert(2, 1000)\n",
    "print (numbers.insert(2, 1000) )"
   ]
  },
  {
   "cell_type": "code",
   "execution_count": 158,
   "metadata": {},
   "outputs": [
    {
     "name": "stdout",
     "output_type": "stream",
     "text": [
      "[1, 8546, 1000, 1000, 1000, 847, 358, 500, 500, 10, 10, 10, 10, 10, 10, 10, 10, 10, 10, 10, 10, 10, 10, 10]\n"
     ]
    }
   ],
   "source": [
    "print (numbers)"
   ]
  },
  {
   "cell_type": "code",
   "execution_count": 167,
   "metadata": {},
   "outputs": [
    {
     "name": "stdout",
     "output_type": "stream",
     "text": [
      "1000\n",
      "[1, 8546, 1000, 847, 358, 500, 500, 10, 10, 10, 10, 10, 10, 10, 10]\n"
     ]
    }
   ],
   "source": [
    "# print (numbers.pop() )\n",
    "print (numbers.pop(2) )\n",
    "print (numbers )"
   ]
  },
  {
   "cell_type": "code",
   "execution_count": 170,
   "metadata": {},
   "outputs": [
    {
     "name": "stdout",
     "output_type": "stream",
     "text": [
      "None\n",
      "[1, 8546, 847, 358, 500, 500, 10, 10, 10, 10, 10, 10, 10]\n"
     ]
    }
   ],
   "source": [
    "print (numbers.remove(10) )\n",
    "print (numbers )"
   ]
  },
  {
   "cell_type": "code",
   "execution_count": 171,
   "metadata": {},
   "outputs": [
    {
     "name": "stdout",
     "output_type": "stream",
     "text": [
      "[1, 8546, 847, 358, 500, 500, 10, 10, 10, 10, 10, 10, 10, 999, 999]\n",
      "[1, 8546, 847, 358, 500, 500, 10, 10, 10, 10, 10, 10, 10, 999, 999, [888, 888]]\n"
     ]
    }
   ],
   "source": [
    "numbers.extend( [999, 999] )\n",
    "print(numbers)\n",
    "numbers.append( [888, 888] )\n",
    "print(numbers)"
   ]
  },
  {
   "cell_type": "code",
   "execution_count": 173,
   "metadata": {},
   "outputs": [
    {
     "name": "stdout",
     "output_type": "stream",
     "text": [
      "[888, 888]\n",
      "<class 'list'>\n"
     ]
    }
   ],
   "source": [
    "print (numbers[-1])\n",
    "print (type(numbers[-1]) )"
   ]
  },
  {
   "cell_type": "code",
   "execution_count": 180,
   "metadata": {},
   "outputs": [
    {
     "name": "stdout",
     "output_type": "stream",
     "text": [
      "[[48, [['65']]], 57]\n",
      "65\n"
     ]
    }
   ],
   "source": [
    "nested_list = [654, [[[48, [['65']]], 57]]]\n",
    "print (nested_list[1][0] )\n",
    "print (nested_list[1][0][0][1][0][0] )"
   ]
  },
  {
   "cell_type": "code",
   "execution_count": 182,
   "metadata": {},
   "outputs": [
    {
     "name": "stdout",
     "output_type": "stream",
     "text": [
      "[1, 8546, 847, 358, 500, 500, 10, 10, 10, 10, 10, 10, 10, 999, 999, [888, 888]]\n",
      "[888, 888]\n"
     ]
    }
   ],
   "source": [
    "print (numbers)\n",
    "print (numbers.pop())"
   ]
  },
  {
   "cell_type": "code",
   "execution_count": 183,
   "metadata": {},
   "outputs": [
    {
     "name": "stdout",
     "output_type": "stream",
     "text": [
      "[1, 8546, 847, 358, 500, 500, 10, 10, 10, 10, 10, 10, 10, 999, 999]\n"
     ]
    }
   ],
   "source": [
    "print (numbers)"
   ]
  },
  {
   "cell_type": "code",
   "execution_count": 192,
   "metadata": {},
   "outputs": [
    {
     "name": "stdout",
     "output_type": "stream",
     "text": [
      "None\n",
      "[999, 999, 10, 10, 10, 10, 10, 10, 10, 500, 500, 358, 847, 8546, 1]\n"
     ]
    }
   ],
   "source": [
    "print( numbers.reverse() )\n",
    "print(numbers)"
   ]
  },
  {
   "cell_type": "code",
   "execution_count": 209,
   "metadata": {},
   "outputs": [
    {
     "name": "stdout",
     "output_type": "stream",
     "text": [
      "[1, 8546, 847, 358, 500, 500, 10, 10, 10, 10, 10, 10, 10, 999, 999]\n",
      "[1, 847, 500, 10, 10, 10, 10, 999]\n"
     ]
    }
   ],
   "source": [
    "print ( numbers[::-1] )\n",
    "print ( numbers[::-2] )"
   ]
  },
  {
   "cell_type": "code",
   "execution_count": 213,
   "metadata": {},
   "outputs": [
    {
     "name": "stdout",
     "output_type": "stream",
     "text": [
      "[1, 10, 10, 10, 10, 10, 10, 10, 358, 500, 500, 847, 999, 999, 8546]\n",
      "[8546, 999, 999, 847, 500, 500, 358, 10, 10, 10, 10, 10, 10, 10, 1]\n"
     ]
    }
   ],
   "source": [
    "numbers.sort(reverse=False)\n",
    "print (numbers)\n",
    "numbers.sort(reverse=True)\n",
    "print (numbers)"
   ]
  },
  {
   "cell_type": "code",
   "execution_count": 215,
   "metadata": {},
   "outputs": [
    {
     "name": "stdout",
     "output_type": "stream",
     "text": [
      "[1, 10, 10, 10, 10, 10, 10, 10, 358, 500, 500, 847, 999, 999, 8546]\n",
      "[1, 8546, 847, 358, 500, 500, 10, 10, 10, 10, 10, 10, 10, 999, 999]\n",
      "[8546, 999, 999, 847, 500, 500, 358, 10, 10, 10, 10, 10, 10, 10, 1]\n",
      "[1, 8546, 847, 358, 500, 500, 10, 10, 10, 10, 10, 10, 10, 999, 999]\n"
     ]
    }
   ],
   "source": [
    "numbers = [1, 8546, 847, 358, 500, 500, 10, 10, 10, 10, 10, 10, 10, 999, 999]\n",
    "print ( sorted(numbers, reverse=False) )\n",
    "print (numbers)\n",
    "print ( sorted(numbers, reverse=True) )\n",
    "print (numbers)"
   ]
  },
  {
   "cell_type": "code",
   "execution_count": 216,
   "metadata": {},
   "outputs": [
    {
     "name": "stdout",
     "output_type": "stream",
     "text": [
      "['Vilnius', 'Kaunas', 'Klaipeda']\n"
     ]
    }
   ],
   "source": [
    "print (cities)"
   ]
  },
  {
   "cell_type": "code",
   "execution_count": 218,
   "metadata": {},
   "outputs": [
    {
     "name": "stdout",
     "output_type": "stream",
     "text": [
      "['Vilnius', 'Kaunas', 'Siauliai']\n"
     ]
    },
    {
     "ename": "IndexError",
     "evalue": "list assignment index out of range",
     "output_type": "error",
     "traceback": [
      "\u001b[1;31m---------------------------------------------------------------------------\u001b[0m",
      "\u001b[1;31mIndexError\u001b[0m                                Traceback (most recent call last)",
      "\u001b[1;32mc:\\Users\\Robotux\\Documents\\Python\\20220830VCSPYTVAK\\lesson_2.ipynb Cell 60\u001b[0m in \u001b[0;36m<module>\u001b[1;34m\u001b[0m\n\u001b[0;32m      <a href='vscode-notebook-cell:/c%3A/Users/Robotux/Documents/Python/20220830VCSPYTVAK/lesson_2.ipynb#Y114sZmlsZQ%3D%3D?line=0'>1</a>\u001b[0m cities[\u001b[39m2\u001b[39m] \u001b[39m=\u001b[39m \u001b[39m\"\u001b[39m\u001b[39mSiauliai\u001b[39m\u001b[39m\"\u001b[39m\n\u001b[0;32m      <a href='vscode-notebook-cell:/c%3A/Users/Robotux/Documents/Python/20220830VCSPYTVAK/lesson_2.ipynb#Y114sZmlsZQ%3D%3D?line=1'>2</a>\u001b[0m \u001b[39mprint\u001b[39m(cities)\n\u001b[1;32m----> <a href='vscode-notebook-cell:/c%3A/Users/Robotux/Documents/Python/20220830VCSPYTVAK/lesson_2.ipynb#Y114sZmlsZQ%3D%3D?line=2'>3</a>\u001b[0m cities[\u001b[39m3\u001b[39m] \u001b[39m=\u001b[39m \u001b[39m\"\u001b[39m\u001b[39mSiauliai\u001b[39m\u001b[39m\"\u001b[39m\n",
      "\u001b[1;31mIndexError\u001b[0m: list assignment index out of range"
     ]
    }
   ],
   "source": [
    "cities[2] = \"Siauliai\"\n",
    "print(cities)\n",
    "# cities[3] = \"Siauliai\" # uzeinam uz saraso ribu"
   ]
  },
  {
   "cell_type": "code",
   "execution_count": 219,
   "metadata": {},
   "outputs": [
    {
     "data": {
      "text/plain": [
       "True"
      ]
     },
     "execution_count": 219,
     "metadata": {},
     "output_type": "execute_result"
    }
   ],
   "source": [
    "\"Vilnius\" in cities"
   ]
  },
  {
   "cell_type": "code",
   "execution_count": 221,
   "metadata": {},
   "outputs": [
    {
     "name": "stdout",
     "output_type": "stream",
     "text": [
      "False\n",
      "True\n"
     ]
    }
   ],
   "source": [
    "print( bool( [] ) )\n",
    "print( bool( cities ) )"
   ]
  },
  {
   "cell_type": "code",
   "execution_count": 223,
   "metadata": {},
   "outputs": [
    {
     "name": "stdout",
     "output_type": "stream",
     "text": [
      "[1, 2, 3, 'A', 'B', 'C']\n"
     ]
    }
   ],
   "source": [
    "combined_list = [1,2,3] + [\"A\", \"B\", \"C\"]\n",
    "print (combined_list)"
   ]
  },
  {
   "cell_type": "code",
   "execution_count": 224,
   "metadata": {},
   "outputs": [
    {
     "name": "stdout",
     "output_type": "stream",
     "text": [
      "[1, 2, 'A', 1, 2, 'A', 1, 2, 'A', 1, 2, 'A', 1, 2, 'A', 1, 2, 'A', 1, 2, 'A', 1, 2, 'A', 1, 2, 'A', 1, 2, 'A', 1, 2, 'A', 1, 2, 'A', 1, 2, 'A', 1, 2, 'A', 1, 2, 'A', 1, 2, 'A', 1, 2, 'A', 1, 2, 'A', 1, 2, 'A', 1, 2, 'A', 1, 2, 'A', 1, 2, 'A', 1, 2, 'A', 1, 2, 'A', 1, 2, 'A', 1, 2, 'A', 1, 2, 'A', 1, 2, 'A', 1, 2, 'A', 1, 2, 'A', 1, 2, 'A', 1, 2, 'A', 1, 2, 'A', 1, 2, 'A', 1, 2, 'A', 1, 2, 'A', 1, 2, 'A', 1, 2, 'A', 1, 2, 'A', 1, 2, 'A', 1, 2, 'A', 1, 2, 'A', 1, 2, 'A', 1, 2, 'A', 1, 2, 'A', 1, 2, 'A', 1, 2, 'A', 1, 2, 'A', 1, 2, 'A', 1, 2, 'A', 1, 2, 'A', 1, 2, 'A', 1, 2, 'A', 1, 2, 'A', 1, 2, 'A', 1, 2, 'A', 1, 2, 'A', 1, 2, 'A', 1, 2, 'A', 1, 2, 'A', 1, 2, 'A', 1, 2, 'A', 1, 2, 'A', 1, 2, 'A', 1, 2, 'A', 1, 2, 'A', 1, 2, 'A', 1, 2, 'A', 1, 2, 'A', 1, 2, 'A', 1, 2, 'A', 1, 2, 'A', 1, 2, 'A', 1, 2, 'A', 1, 2, 'A', 1, 2, 'A', 1, 2, 'A', 1, 2, 'A', 1, 2, 'A', 1, 2, 'A', 1, 2, 'A', 1, 2, 'A', 1, 2, 'A', 1, 2, 'A', 1, 2, 'A', 1, 2, 'A', 1, 2, 'A', 1, 2, 'A', 1, 2, 'A', 1, 2, 'A', 1, 2, 'A', 1, 2, 'A', 1, 2, 'A', 1, 2, 'A', 1, 2, 'A', 1, 2, 'A', 1, 2, 'A', 1, 2, 'A', 1, 2, 'A', 1, 2, 'A']\n"
     ]
    }
   ],
   "source": [
    "mult_list = [1,2,\"A\"] * 100\n",
    "print (mult_list)"
   ]
  },
  {
   "cell_type": "code",
   "execution_count": 229,
   "metadata": {},
   "outputs": [
    {
     "name": "stdout",
     "output_type": "stream",
     "text": [
      "15\n",
      "30\n",
      "10.0\n"
     ]
    }
   ],
   "source": [
    "c = 5\n",
    "# c = c + 10\n",
    "c += 10 # same as c = c + 10\n",
    "print (c)\n",
    "c *= 2\n",
    "print (c)\n",
    "c /= 3\n",
    "print (c)"
   ]
  },
  {
   "cell_type": "code",
   "execution_count": 230,
   "metadata": {},
   "outputs": [
    {
     "data": {
      "text/plain": [
       "list"
      ]
     },
     "execution_count": 230,
     "metadata": {},
     "output_type": "execute_result"
    }
   ],
   "source": [
    "type( [] )"
   ]
  },
  {
   "cell_type": "code",
   "execution_count": null,
   "metadata": {},
   "outputs": [],
   "source": []
  }
 ],
 "metadata": {
  "kernelspec": {
   "display_name": "Python 3.10.6 64-bit",
   "language": "python",
   "name": "python3"
  },
  "language_info": {
   "codemirror_mode": {
    "name": "ipython",
    "version": 3
   },
   "file_extension": ".py",
   "mimetype": "text/x-python",
   "name": "python",
   "nbconvert_exporter": "python",
   "pygments_lexer": "ipython3",
   "version": "3.10.6"
  },
  "orig_nbformat": 4,
  "vscode": {
   "interpreter": {
    "hash": "e5c659902e25f6e168175e0a23e35de31816c23dea96122aa0d533fce758bf79"
   }
  }
 },
 "nbformat": 4,
 "nbformat_minor": 2
}
