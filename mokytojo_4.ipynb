{
 "cells": [
  {
   "cell_type": "markdown",
   "metadata": {},
   "source": [
    "# Namų darbai"
   ]
  },
  {
   "cell_type": "markdown",
   "metadata": {},
   "source": [
    "1.Sudėti du list’us, išimti paskutinį narį iš sudėto listo, išrikiuoti list’ą, suskaičiuoti kiek yra kokios nors reikšmės įvesčių list’e"
   ]
  },
  {
   "cell_type": "code",
   "execution_count": 7,
   "metadata": {},
   "outputs": [
    {
     "name": "stdout",
     "output_type": "stream",
     "text": [
      "[1, 5, 1, 10, 50, 12]\n",
      "[1, 5, 1, 10, 50]\n",
      "[1, 1, 5, 10, 50]\n"
     ]
    },
    {
     "data": {
      "text/plain": [
       "2"
      ]
     },
     "execution_count": 7,
     "metadata": {},
     "output_type": "execute_result"
    }
   ],
   "source": [
    "list_1 = [1,5,1]\n",
    "list_2 = [10,50,12]\n",
    "list_combined = list_1 + list_2\n",
    "print (list_combined)\n",
    "list_combined.pop()\n",
    "print (list_combined)\n",
    "\n",
    "list_combined.sort()\n",
    "print (list_combined)\n",
    "\n",
    "list_combined.count(1)"
   ]
  },
  {
   "cell_type": "code",
   "execution_count": 8,
   "metadata": {},
   "outputs": [
    {
     "name": "stdout",
     "output_type": "stream",
     "text": [
      "['a', 'ab', 'astrwre', '', 'asa', 'g']\n",
      "['a', 'ab', 'astrwre', '', 'asa']\n",
      "['astrwre', 'asa', 'ab', 'a', '']\n"
     ]
    },
    {
     "data": {
      "text/plain": [
       "0"
      ]
     },
     "execution_count": 8,
     "metadata": {},
     "output_type": "execute_result"
    }
   ],
   "source": [
    "list_1 = ['a','ab', 'astrwre']\n",
    "list_2 = ['','asa','g']\n",
    "list_combined = list_1 + list_2\n",
    "print (list_combined)\n",
    "list_combined.pop()\n",
    "print (list_combined)\n",
    "\n",
    "list_combined.sort(key=len, reverse=True)\n",
    "\n",
    "print (list_combined)\n",
    "\n",
    "list_combined.count(1)"
   ]
  },
  {
   "cell_type": "markdown",
   "metadata": {},
   "source": [
    "2.1 Tikrinant skaičius nuo 1 iki 20 , atspausdinkite skaičius, kurie dalinasi iš 3 be liekanos. Naudokite for loop ir if"
   ]
  },
  {
   "cell_type": "code",
   "execution_count": 9,
   "metadata": {},
   "outputs": [
    {
     "name": "stdout",
     "output_type": "stream",
     "text": [
      "3\n",
      "6\n",
      "9\n",
      "12\n",
      "15\n",
      "18\n"
     ]
    }
   ],
   "source": [
    "for i in range(1,21):\n",
    "    if i % 3 == 0:\n",
    "        print(i)"
   ]
  },
  {
   "cell_type": "markdown",
   "metadata": {},
   "source": [
    "2.2 Tikrinant skaičius nuo 1 iki 50, pridėkite skaičių prie sumos, jei nauja einama suma bus lyginė"
   ]
  },
  {
   "cell_type": "code",
   "execution_count": 10,
   "metadata": {},
   "outputs": [
    {
     "name": "stdout",
     "output_type": "stream",
     "text": [
      "2\n",
      "6\n",
      "12\n",
      "20\n",
      "30\n",
      "42\n",
      "56\n",
      "72\n",
      "90\n",
      "110\n",
      "132\n",
      "156\n",
      "182\n",
      "210\n",
      "240\n",
      "272\n",
      "306\n",
      "342\n",
      "380\n",
      "420\n",
      "462\n",
      "506\n",
      "552\n",
      "600\n",
      "650\n"
     ]
    }
   ],
   "source": [
    "suma = 0\n",
    "for i in range(1,51):\n",
    "    if (suma + i) % 2 == 0:\n",
    "        suma += i\n",
    "        print(suma)"
   ]
  },
  {
   "cell_type": "markdown",
   "metadata": {},
   "source": [
    "3\\. Leiskite vartotojui pasirinkti skaičių, atspausdinkite jo sandaugą nuo 1 iki 10 tik tada, jei pasirinktas skaičius pakeltas kvadratu yra nelyginis"
   ]
  },
  {
   "cell_type": "code",
   "execution_count": 11,
   "metadata": {},
   "outputs": [
    {
     "name": "stdout",
     "output_type": "stream",
     "text": [
      "11\n",
      "22\n",
      "33\n",
      "44\n",
      "55\n",
      "66\n",
      "77\n",
      "88\n",
      "99\n",
      "110\n"
     ]
    }
   ],
   "source": [
    "pasirinktas_skaicius = int( input('iveskite skaiciu') )\n",
    "\n",
    "if (pasirinktas_skaicius ** 2) % 2 != 0:\n",
    "    for i in range(1,11):\n",
    "        print (i * pasirinktas_skaicius)\n",
    "else:\n",
    "    print ('pasirinktas skaičius pakeltas kvadratu yra lyginis')"
   ]
  },
  {
   "cell_type": "markdown",
   "metadata": {},
   "source": [
    "4\\. Gaukite visas įmanomas kombinacijas iš pateiktų sąrašų tik tada, jei diena yra arba pirmadienis arba trečiadienis, o valandos yra nuo 12 iki 17, įrašykite jas į list’ą"
   ]
  },
  {
   "cell_type": "code",
   "execution_count": 12,
   "metadata": {},
   "outputs": [
    {
     "name": "stdout",
     "output_type": "stream",
     "text": [
      "[('Pirmadienis', 12), ('Pirmadienis', 13), ('Pirmadienis', 14), ('Pirmadienis', 15), ('Pirmadienis', 16), ('Pirmadienis', 17), ('Treciadienis', 12), ('Treciadienis', 13), ('Treciadienis', 14), ('Treciadienis', 15), ('Treciadienis', 16), ('Treciadienis', 17)]\n"
     ]
    }
   ],
   "source": [
    "dienos = ('Pirmadienis', 'Antradienis', 'Treciadienis','Ketvirtadienis', 'Penktadienis', 'Sestadienis' , 'Sekmadienis')\n",
    "valandos = [10, 11, 12, 13, 14, 15, 16, 17, 18, 19]\n",
    "\n",
    "tinkamos_dienos = [ 'Pirmadienis', 'Treciadienis' ]\n",
    "tinkamos_valandos = [ 12, 13, 14, 15, 16, 17 ]\n",
    "\n",
    "kombinacijos = []\n",
    "for diena in dienos:\n",
    "    # if diena == 'Pirmadienis' or diena == 'Treciadienis':\n",
    "    if diena in tinkamos_dienos:\n",
    "        for valanda in valandos:\n",
    "            if valanda in tinkamos_valandos:\n",
    "                kombinacijos.append( (diena, valanda) )\n",
    "\n",
    "print (kombinacijos)"
   ]
  },
  {
   "cell_type": "markdown",
   "metadata": {},
   "source": [
    "5\\. Iš pirmų 100 skaičių, jeigu skaičius dalinasi iš 2 be liekanos, atspausdinkite ‘Fizz’, jeigu skaičius dalinasi iš 3 be liekanos atspausdinkite ‘Buzz’, jei skaičius dalinasi iš 2 ir 3 be liekanos, atspausdinkite ‘FizzBuzz’"
   ]
  },
  {
   "cell_type": "code",
   "execution_count": 13,
   "metadata": {},
   "outputs": [
    {
     "name": "stdout",
     "output_type": "stream",
     "text": [
      " 2 - Fizz\n",
      " 3 - Buzz\n",
      " 4 - Fizz\n",
      " 6 - Fizz\n",
      " 8 - Fizz\n",
      " 9 - Buzz\n",
      " 10 - Fizz\n",
      " 12 - Fizz\n",
      " 14 - Fizz\n",
      " 15 - Buzz\n",
      " 16 - Fizz\n",
      " 18 - Fizz\n",
      " 20 - Fizz\n",
      " 21 - Buzz\n",
      " 22 - Fizz\n",
      " 24 - Fizz\n",
      " 26 - Fizz\n",
      " 27 - Buzz\n",
      " 28 - Fizz\n",
      " 30 - Fizz\n",
      " 32 - Fizz\n",
      " 33 - Buzz\n",
      " 34 - Fizz\n",
      " 36 - Fizz\n",
      " 38 - Fizz\n",
      " 39 - Buzz\n",
      " 40 - Fizz\n",
      " 42 - Fizz\n",
      " 44 - Fizz\n",
      " 45 - Buzz\n",
      " 46 - Fizz\n",
      " 48 - Fizz\n",
      " 50 - Fizz\n",
      " 51 - Buzz\n",
      " 52 - Fizz\n",
      " 54 - Fizz\n",
      " 56 - Fizz\n",
      " 57 - Buzz\n",
      " 58 - Fizz\n",
      " 60 - Fizz\n",
      " 62 - Fizz\n",
      " 63 - Buzz\n",
      " 64 - Fizz\n",
      " 66 - Fizz\n",
      " 68 - Fizz\n",
      " 69 - Buzz\n",
      " 70 - Fizz\n",
      " 72 - Fizz\n",
      " 74 - Fizz\n",
      " 75 - Buzz\n",
      " 76 - Fizz\n",
      " 78 - Fizz\n",
      " 80 - Fizz\n",
      " 81 - Buzz\n",
      " 82 - Fizz\n",
      " 84 - Fizz\n",
      " 86 - Fizz\n",
      " 87 - Buzz\n",
      " 88 - Fizz\n",
      " 90 - Fizz\n",
      " 92 - Fizz\n",
      " 93 - Buzz\n",
      " 94 - Fizz\n",
      " 96 - Fizz\n",
      " 98 - Fizz\n",
      " 99 - Buzz\n",
      " 100 - Fizz\n"
     ]
    }
   ],
   "source": [
    "# wrong\n",
    "for i in range(1,101):\n",
    "    if i % 2 == 0:\n",
    "        print (f' {i} - Fizz')\n",
    "    elif i % 3 == 0:\n",
    "        print (f' {i} - Buzz')\n",
    "    elif i % 2 == 0 and i % 3 == 0:\n",
    "        print (f' {i} - FizzBuzz')"
   ]
  },
  {
   "cell_type": "code",
   "execution_count": 14,
   "metadata": {},
   "outputs": [
    {
     "name": "stdout",
     "output_type": "stream",
     "text": [
      "1\n",
      " 2 - Fizz\n",
      " 3 - Buzz\n",
      " 4 - Fizz\n",
      "5\n",
      " 6 - FizzBuzz\n",
      "7\n",
      " 8 - Fizz\n",
      " 9 - Buzz\n",
      " 10 - Fizz\n",
      "11\n",
      " 12 - FizzBuzz\n",
      "13\n",
      " 14 - Fizz\n",
      " 15 - Buzz\n",
      " 16 - Fizz\n",
      "17\n",
      " 18 - FizzBuzz\n",
      "19\n",
      " 20 - Fizz\n",
      " 21 - Buzz\n",
      " 22 - Fizz\n",
      "23\n",
      " 24 - FizzBuzz\n",
      "25\n",
      " 26 - Fizz\n",
      " 27 - Buzz\n",
      " 28 - Fizz\n",
      "29\n",
      " 30 - FizzBuzz\n",
      "31\n",
      " 32 - Fizz\n",
      " 33 - Buzz\n",
      " 34 - Fizz\n",
      "35\n",
      " 36 - FizzBuzz\n",
      "37\n",
      " 38 - Fizz\n",
      " 39 - Buzz\n",
      " 40 - Fizz\n",
      "41\n",
      " 42 - FizzBuzz\n",
      "43\n",
      " 44 - Fizz\n",
      " 45 - Buzz\n",
      " 46 - Fizz\n",
      "47\n",
      " 48 - FizzBuzz\n",
      "49\n",
      " 50 - Fizz\n",
      " 51 - Buzz\n",
      " 52 - Fizz\n",
      "53\n",
      " 54 - FizzBuzz\n",
      "55\n",
      " 56 - Fizz\n",
      " 57 - Buzz\n",
      " 58 - Fizz\n",
      "59\n",
      " 60 - FizzBuzz\n",
      "61\n",
      " 62 - Fizz\n",
      " 63 - Buzz\n",
      " 64 - Fizz\n",
      "65\n",
      " 66 - FizzBuzz\n",
      "67\n",
      " 68 - Fizz\n",
      " 69 - Buzz\n",
      " 70 - Fizz\n",
      "71\n",
      " 72 - FizzBuzz\n",
      "73\n",
      " 74 - Fizz\n",
      " 75 - Buzz\n",
      " 76 - Fizz\n",
      "77\n",
      " 78 - FizzBuzz\n",
      "79\n",
      " 80 - Fizz\n",
      " 81 - Buzz\n",
      " 82 - Fizz\n",
      "83\n",
      " 84 - FizzBuzz\n",
      "85\n",
      " 86 - Fizz\n",
      " 87 - Buzz\n",
      " 88 - Fizz\n",
      "89\n",
      " 90 - FizzBuzz\n",
      "91\n",
      " 92 - Fizz\n",
      " 93 - Buzz\n",
      " 94 - Fizz\n",
      "95\n",
      " 96 - FizzBuzz\n",
      "97\n",
      " 98 - Fizz\n",
      " 99 - Buzz\n",
      " 100 - Fizz\n"
     ]
    }
   ],
   "source": [
    "# good\n",
    "for i in range(1,101):\n",
    "    if i % 2 == 0 and i % 3 == 0:\n",
    "        print (f' {i} - FizzBuzz')\n",
    "    elif i % 3 == 0:\n",
    "        print (f' {i} - Buzz')\n",
    "    elif i % 2 == 0:\n",
    "        print (f' {i} - Fizz')\n",
    "    else:\n",
    "        print (i)"
   ]
  },
  {
   "cell_type": "code",
   "execution_count": 15,
   "metadata": {},
   "outputs": [
    {
     "name": "stdout",
     "output_type": "stream",
     "text": [
      " 1 - \n",
      " 2 - Fizz\n",
      " 3 - Buzz\n",
      " 4 - Fizz\n",
      " 5 - \n",
      " 6 - FizzBuzz\n",
      " 7 - \n",
      " 8 - Fizz\n",
      " 9 - Buzz\n",
      " 10 - Fizz\n",
      " 11 - \n",
      " 12 - FizzBuzz\n",
      " 13 - \n",
      " 14 - Fizz\n",
      " 15 - Buzz\n",
      " 16 - Fizz\n",
      " 17 - \n",
      " 18 - FizzBuzz\n",
      " 19 - \n",
      " 20 - Fizz\n",
      " 21 - Buzz\n",
      " 22 - Fizz\n",
      " 23 - \n",
      " 24 - FizzBuzz\n",
      " 25 - \n",
      " 26 - Fizz\n",
      " 27 - Buzz\n",
      " 28 - Fizz\n",
      " 29 - \n",
      " 30 - FizzBuzz\n",
      " 31 - \n",
      " 32 - Fizz\n",
      " 33 - Buzz\n",
      " 34 - Fizz\n",
      " 35 - \n",
      " 36 - FizzBuzz\n",
      " 37 - \n",
      " 38 - Fizz\n",
      " 39 - Buzz\n",
      " 40 - Fizz\n",
      " 41 - \n",
      " 42 - FizzBuzz\n",
      " 43 - \n",
      " 44 - Fizz\n",
      " 45 - Buzz\n",
      " 46 - Fizz\n",
      " 47 - \n",
      " 48 - FizzBuzz\n",
      " 49 - \n",
      " 50 - Fizz\n",
      " 51 - Buzz\n",
      " 52 - Fizz\n",
      " 53 - \n",
      " 54 - FizzBuzz\n",
      " 55 - \n",
      " 56 - Fizz\n",
      " 57 - Buzz\n",
      " 58 - Fizz\n",
      " 59 - \n",
      " 60 - FizzBuzz\n",
      " 61 - \n",
      " 62 - Fizz\n",
      " 63 - Buzz\n",
      " 64 - Fizz\n",
      " 65 - \n",
      " 66 - FizzBuzz\n",
      " 67 - \n",
      " 68 - Fizz\n",
      " 69 - Buzz\n",
      " 70 - Fizz\n",
      " 71 - \n",
      " 72 - FizzBuzz\n",
      " 73 - \n",
      " 74 - Fizz\n",
      " 75 - Buzz\n",
      " 76 - Fizz\n",
      " 77 - \n",
      " 78 - FizzBuzz\n",
      " 79 - \n",
      " 80 - Fizz\n",
      " 81 - Buzz\n",
      " 82 - Fizz\n",
      " 83 - \n",
      " 84 - FizzBuzz\n",
      " 85 - \n",
      " 86 - Fizz\n",
      " 87 - Buzz\n",
      " 88 - Fizz\n",
      " 89 - \n",
      " 90 - FizzBuzz\n",
      " 91 - \n",
      " 92 - Fizz\n",
      " 93 - Buzz\n",
      " 94 - Fizz\n",
      " 95 - \n",
      " 96 - FizzBuzz\n",
      " 97 - \n",
      " 98 - Fizz\n",
      " 99 - Buzz\n",
      " 100 - Fizz\n"
     ]
    }
   ],
   "source": [
    "for i in range(1,101):\n",
    "    result = ''\n",
    "    if i % 2 == 0:\n",
    "        result += 'Fizz'\n",
    "    if i % 3 == 0:\n",
    "        result += 'Buzz'\n",
    "    print(f' {i} - {result}')"
   ]
  },
  {
   "cell_type": "markdown",
   "metadata": {},
   "source": [
    "6\\. Leiskite vartotojui pasirinkti skaičių, jeigu įvestas skaičius yra daugiau arba lygus 10, atspausdinkite visus skaičius nuo 1 iki pateikto skaičiaus, kurie dalinasi iš 5 su liekana"
   ]
  },
  {
   "cell_type": "code",
   "execution_count": 16,
   "metadata": {},
   "outputs": [
    {
     "name": "stdout",
     "output_type": "stream",
     "text": [
      "1\n",
      "for cikle\n",
      "2\n",
      "for cikle\n",
      "3\n",
      "for cikle\n",
      "4\n",
      "for cikle\n",
      "for cikle\n",
      "6\n",
      "for cikle\n",
      "7\n",
      "for cikle\n",
      "8\n",
      "for cikle\n",
      "9\n",
      "for cikle\n",
      "for cikle\n",
      "11\n",
      "for cikle\n",
      "cia\n"
     ]
    }
   ],
   "source": [
    "pasirinktas_skaicius = int( input('iveskite skaiciu') )\n",
    "\n",
    "if pasirinktas_skaicius >= 10:\n",
    "    for i in range(1, pasirinktas_skaicius + 1):\n",
    "        if i % 5 != 0:\n",
    "            print (i)\n",
    "        print ('for cikle')\n",
    "    print ('cia')\n",
    "else: \n",
    "    print (f'skaicius {pasirinktas_skaicius} mazesnis uz 10')"
   ]
  },
  {
   "cell_type": "code",
   "execution_count": 17,
   "metadata": {},
   "outputs": [
    {
     "data": {
      "text/plain": [
       "5"
      ]
     },
     "execution_count": 17,
     "metadata": {},
     "output_type": "execute_result"
    }
   ],
   "source": [
    "# skacius  = int\n",
    "# skacius.append()\n",
    "\n",
    "# int = 5 # klaida\n",
    "int('5')"
   ]
  },
  {
   "cell_type": "code",
   "execution_count": 18,
   "metadata": {},
   "outputs": [
    {
     "data": {
      "text/plain": [
       "546"
      ]
     },
     "execution_count": 18,
     "metadata": {},
     "output_type": "execute_result"
    }
   ],
   "source": [
    "int('546')"
   ]
  },
  {
   "cell_type": "markdown",
   "metadata": {},
   "source": [
    "7\\. Koks yra sąrašo ilgis sudaryto iš pateiktų sąrašų kombinacijų, jeigu norime rasti visas įmanomas reikšmes? Išrikiuokite sąrašą nuo didžiausios iki mažiausios reikšmės (teks atlikti papildomų veiksmų tam atlikti teisingai, naudoti viena iš 3 narių rikiavimui)"
   ]
  },
  {
   "cell_type": "code",
   "execution_count": 19,
   "metadata": {},
   "outputs": [
    {
     "name": "stdout",
     "output_type": "stream",
     "text": [
      "[('1', 'labas', 100), ('1', 'labas', 200), ('1', 'labas', 40), ('1', 'labas', 10), ('1', 'vakaras', 100), ('1', 'vakaras', 200), ('1', 'vakaras', 40), ('1', 'vakaras', 10), ('1', 'kokia grazi diena', 100), ('1', 'kokia grazi diena', 200), ('1', 'kokia grazi diena', 40), ('1', 'kokia grazi diena', 10), ('1', 'siandien uz lango', 100), ('1', 'siandien uz lango', 200), ('1', 'siandien uz lango', 40), ('1', 'siandien uz lango', 10), ('1', '10 laipsniu silumos', 100), ('1', '10 laipsniu silumos', 200), ('1', '10 laipsniu silumos', 40), ('1', '10 laipsniu silumos', 10), ('2', 'labas', 100), ('2', 'labas', 200), ('2', 'labas', 40), ('2', 'labas', 10), ('2', 'vakaras', 100), ('2', 'vakaras', 200), ('2', 'vakaras', 40), ('2', 'vakaras', 10), ('2', 'kokia grazi diena', 100), ('2', 'kokia grazi diena', 200), ('2', 'kokia grazi diena', 40), ('2', 'kokia grazi diena', 10), ('2', 'siandien uz lango', 100), ('2', 'siandien uz lango', 200), ('2', 'siandien uz lango', 40), ('2', 'siandien uz lango', 10), ('2', '10 laipsniu silumos', 100), ('2', '10 laipsniu silumos', 200), ('2', '10 laipsniu silumos', 40), ('2', '10 laipsniu silumos', 10), ('3', 'labas', 100), ('3', 'labas', 200), ('3', 'labas', 40), ('3', 'labas', 10), ('3', 'vakaras', 100), ('3', 'vakaras', 200), ('3', 'vakaras', 40), ('3', 'vakaras', 10), ('3', 'kokia grazi diena', 100), ('3', 'kokia grazi diena', 200), ('3', 'kokia grazi diena', 40), ('3', 'kokia grazi diena', 10), ('3', 'siandien uz lango', 100), ('3', 'siandien uz lango', 200), ('3', 'siandien uz lango', 40), ('3', 'siandien uz lango', 10), ('3', '10 laipsniu silumos', 100), ('3', '10 laipsniu silumos', 200), ('3', '10 laipsniu silumos', 40), ('3', '10 laipsniu silumos', 10), ('4', 'labas', 100), ('4', 'labas', 200), ('4', 'labas', 40), ('4', 'labas', 10), ('4', 'vakaras', 100), ('4', 'vakaras', 200), ('4', 'vakaras', 40), ('4', 'vakaras', 10), ('4', 'kokia grazi diena', 100), ('4', 'kokia grazi diena', 200), ('4', 'kokia grazi diena', 40), ('4', 'kokia grazi diena', 10), ('4', 'siandien uz lango', 100), ('4', 'siandien uz lango', 200), ('4', 'siandien uz lango', 40), ('4', 'siandien uz lango', 10), ('4', '10 laipsniu silumos', 100), ('4', '10 laipsniu silumos', 200), ('4', '10 laipsniu silumos', 40), ('4', '10 laipsniu silumos', 10), ('5', 'labas', 100), ('5', 'labas', 200), ('5', 'labas', 40), ('5', 'labas', 10), ('5', 'vakaras', 100), ('5', 'vakaras', 200), ('5', 'vakaras', 40), ('5', 'vakaras', 10), ('5', 'kokia grazi diena', 100), ('5', 'kokia grazi diena', 200), ('5', 'kokia grazi diena', 40), ('5', 'kokia grazi diena', 10), ('5', 'siandien uz lango', 100), ('5', 'siandien uz lango', 200), ('5', 'siandien uz lango', 40), ('5', 'siandien uz lango', 10), ('5', '10 laipsniu silumos', 100), ('5', '10 laipsniu silumos', 200), ('5', '10 laipsniu silumos', 40), ('5', '10 laipsniu silumos', 10)]\n"
     ]
    }
   ],
   "source": [
    "a = ['1','2','3','4','5']\n",
    "b = ['labas', 'vakaras', 'kokia grazi diena', 'siandien uz lango', '10 laipsniu silumos']\n",
    "c = ['100', '200', 40, 10]\n",
    "c[0] = 100\n",
    "c[1] = 200\n",
    "# print(c)\n",
    "\n",
    "kombinacijos = []\n",
    "for pirmas in a:\n",
    "    for antras in b:\n",
    "        for trecias in c:\n",
    "            kombinacijos.append( (pirmas, antras, trecias) )\n",
    "\n",
    "print(kombinacijos) "
   ]
  },
  {
   "cell_type": "markdown",
   "metadata": {},
   "source": [
    "# List comprehension"
   ]
  },
  {
   "cell_type": "code",
   "execution_count": 20,
   "metadata": {},
   "outputs": [
    {
     "name": "stdout",
     "output_type": "stream",
     "text": [
      "[3, 6, 9, 12, 15, 18]\n"
     ]
    }
   ],
   "source": [
    "numbers = list(range(1,21) )\n",
    "dividible_by_3 = []\n",
    "for number in numbers:\n",
    "    if number % 3 == 0:\n",
    "        dividible_by_3.append(number)\n",
    "        # print(number)\n",
    "print (dividible_by_3)"
   ]
  },
  {
   "cell_type": "code",
   "execution_count": 5,
   "metadata": {},
   "outputs": [
    {
     "name": "stdout",
     "output_type": "stream",
     "text": [
      "[2, 4, 6, 8, 10, 12, 14, 16, 18, 20, 22, 24, 26, 28, 30, 32, 34, 36, 38, 40]\n"
     ]
    }
   ],
   "source": [
    "dividible_by_3 = [ number * 2 for number in range(1,21) ]\n",
    "print (dividible_by_3)"
   ]
  },
  {
   "cell_type": "code",
   "execution_count": 6,
   "metadata": {},
   "outputs": [
    {
     "name": "stdout",
     "output_type": "stream",
     "text": [
      "[3, 6, 9, 12, 15, 18]\n"
     ]
    }
   ],
   "source": [
    "dividible_by_3 = [ number for number in range(1,21) if number % 3 == 0 ]\n",
    "print (dividible_by_3)"
   ]
  },
  {
   "cell_type": "code",
   "execution_count": 8,
   "metadata": {},
   "outputs": [
    {
     "name": "stdout",
     "output_type": "stream",
     "text": [
      "['1 nesidalina is 3', '2 nesidalina is 3', 3, '4 nesidalina is 3', '5 nesidalina is 3', 6, '7 nesidalina is 3', '8 nesidalina is 3', 9, '10 nesidalina is 3', '11 nesidalina is 3', 12, '13 nesidalina is 3', '14 nesidalina is 3', 15, '16 nesidalina is 3', '17 nesidalina is 3', 18, '19 nesidalina is 3', '20 nesidalina is 3']\n"
     ]
    }
   ],
   "source": [
    "dividible_by_3 = [ number if number % 3 ==0 else f'{number} nesidalina is 3' for number in range(1,21) ]\n",
    "print (dividible_by_3)"
   ]
  },
  {
   "cell_type": "markdown",
   "metadata": {},
   "source": [
    "# None a.k.a null, nill"
   ]
  },
  {
   "cell_type": "code",
   "execution_count": 9,
   "metadata": {},
   "outputs": [
    {
     "name": "stdout",
     "output_type": "stream",
     "text": [
      "None\n",
      "<class 'NoneType'>\n"
     ]
    }
   ],
   "source": [
    "niekas = None\n",
    "print (niekas)\n",
    "print(type(niekas))"
   ]
  },
  {
   "cell_type": "code",
   "execution_count": 11,
   "metadata": {},
   "outputs": [
    {
     "name": "stdout",
     "output_type": "stream",
     "text": [
      "None\n",
      "[4, 5, 7]\n"
     ]
    }
   ],
   "source": [
    "list_1 = [5,4,7]\n",
    "print(list_1.sort())\n",
    "print(list_1)"
   ]
  },
  {
   "cell_type": "code",
   "execution_count": null,
   "metadata": {},
   "outputs": [],
   "source": [
    "vardas = ''\n",
    "vardas = input('Koks tavo vardas?')\n",
    "# if vardas == '':\n",
    "\n",
    "    \n",
    "if vardas == \"Jonas\":\n",
    "    print (\"sveikas Jonai!\")"
   ]
  },
  {
   "cell_type": "code",
   "execution_count": 13,
   "metadata": {},
   "outputs": [
    {
     "name": "stdout",
     "output_type": "stream",
     "text": [
      "vardas yra None\n",
      "vardas yra Darius\n"
     ]
    }
   ],
   "source": [
    "vardas = None\n",
    "pateiktas_vardas = input('Koks tavo vardas?') \n",
    "if pateiktas_vardas == '':\n",
    "    pateiktas_vardas = input('Neirasete vardo, koks jusu vardas?') \n",
    "print(f'vardas yra {vardas}')\n",
    "if pateiktas_vardas != '':\n",
    "    vardas = pateiktas_vardas\n",
    "print(f'vardas yra {vardas}')\n"
   ]
  },
  {
   "cell_type": "markdown",
   "metadata": {},
   "source": [
    "# Dictionary"
   ]
  },
  {
   "cell_type": "code",
   "execution_count": 15,
   "metadata": {},
   "outputs": [
    {
     "name": "stdout",
     "output_type": "stream",
     "text": [
      "{'vardas': 'Darius', 'amzius': 26}\n"
     ]
    }
   ],
   "source": [
    "me = {\n",
    "    'vardas': 'Darius',\n",
    "    'amzius': 26\n",
    "}\n",
    "print( me)"
   ]
  },
  {
   "cell_type": "code",
   "execution_count": 17,
   "metadata": {},
   "outputs": [
    {
     "name": "stdout",
     "output_type": "stream",
     "text": [
      "Darius\n",
      "26\n"
     ]
    }
   ],
   "source": [
    "print (me[ 'vardas' ])\n",
    "print (me[ 'amzius' ])"
   ]
  },
  {
   "cell_type": "code",
   "execution_count": 19,
   "metadata": {},
   "outputs": [
    {
     "name": "stdout",
     "output_type": "stream",
     "text": [
      "{'vardas': 'Darius', 'amzius': 26, 'hobiai': ['tenisas', 'dviraciai']}\n",
      "{'vardas': 'Darius', 'amzius': 27, 'hobiai': ['tenisas', 'dviraciai']}\n"
     ]
    }
   ],
   "source": [
    "me[ 'hobiai' ] = ['tenisas', 'dviraciai']\n",
    "print (me)\n",
    "me[ 'amzius' ] = 27\n",
    "print (me)"
   ]
  },
  {
   "cell_type": "code",
   "execution_count": 22,
   "metadata": {},
   "outputs": [
    {
     "name": "stdout",
     "output_type": "stream",
     "text": [
      "tiesa\n",
      "penki\n"
     ]
    }
   ],
   "source": [
    "someone = {\n",
    "    True: 'tiesa',\n",
    "    False: 'False',\n",
    "    5: 'penki'\n",
    "}\n",
    "print ( someone[True] )\n",
    "print ( someone[5] )"
   ]
  },
  {
   "cell_type": "code",
   "execution_count": 24,
   "metadata": {},
   "outputs": [
    {
     "name": "stdout",
     "output_type": "stream",
     "text": [
      "\n"
     ]
    }
   ],
   "source": [
    "print()"
   ]
  },
  {
   "cell_type": "code",
   "execution_count": 28,
   "metadata": {},
   "outputs": [
    {
     "name": "stdout",
     "output_type": "stream",
     "text": [
      "<class 'tuple'>\n",
      "<class 'dict'>\n",
      "<class 'list'>\n"
     ]
    }
   ],
   "source": [
    "my_tuple = ( 45,57 )\n",
    "print (type (my_tuple) )\n",
    "print (type (someone) )\n",
    "print (type (me[ 'hobiai' ]) )"
   ]
  },
  {
   "cell_type": "code",
   "execution_count": 29,
   "metadata": {},
   "outputs": [
    {
     "ename": "KeyError",
     "evalue": "0",
     "output_type": "error",
     "traceback": [
      "\u001b[1;31m---------------------------------------------------------------------------\u001b[0m",
      "\u001b[1;31mKeyError\u001b[0m                                  Traceback (most recent call last)",
      "\u001b[1;32mc:\\Users\\Robotux\\Documents\\Python\\20220830VCSPYTVAK\\lesson_4.ipynb Cell 40\u001b[0m in \u001b[0;36m<module>\u001b[1;34m\u001b[0m\n\u001b[1;32m----> <a href='vscode-notebook-cell:/c%3A/Users/Robotux/Documents/Python/20220830VCSPYTVAK/lesson_4.ipynb#X60sZmlsZQ%3D%3D?line=0'>1</a>\u001b[0m me[\u001b[39m0\u001b[39;49m]\n",
      "\u001b[1;31mKeyError\u001b[0m: 0"
     ]
    }
   ],
   "source": [
    "me[0]"
   ]
  },
  {
   "cell_type": "code",
   "execution_count": 30,
   "metadata": {},
   "outputs": [
    {
     "ename": "KeyError",
     "evalue": "'neegzistuojantis_raktas'",
     "output_type": "error",
     "traceback": [
      "\u001b[1;31m---------------------------------------------------------------------------\u001b[0m",
      "\u001b[1;31mKeyError\u001b[0m                                  Traceback (most recent call last)",
      "\u001b[1;32mc:\\Users\\Robotux\\Documents\\Python\\20220830VCSPYTVAK\\lesson_4.ipynb Cell 41\u001b[0m in \u001b[0;36m<module>\u001b[1;34m\u001b[0m\n\u001b[1;32m----> <a href='vscode-notebook-cell:/c%3A/Users/Robotux/Documents/Python/20220830VCSPYTVAK/lesson_4.ipynb#X61sZmlsZQ%3D%3D?line=0'>1</a>\u001b[0m me[\u001b[39m'\u001b[39;49m\u001b[39mneegzistuojantis_raktas\u001b[39;49m\u001b[39m'\u001b[39;49m]\n",
      "\u001b[1;31mKeyError\u001b[0m: 'neegzistuojantis_raktas'"
     ]
    }
   ],
   "source": [
    "me['neegzistuojantis_raktas']"
   ]
  },
  {
   "cell_type": "code",
   "execution_count": 34,
   "metadata": {},
   "outputs": [
    {
     "name": "stdout",
     "output_type": "stream",
     "text": [
      "[{'vardas': 'Jonas', 'amzius': 35}, {'vardas': 'Petras', 'amzius': 50}]\n",
      "Jonas\n",
      "Jonas\n",
      "Petras\n"
     ]
    }
   ],
   "source": [
    "zmones = [\n",
    "    {'vardas': 'Jonas', 'amzius': 35},\n",
    "    {'vardas': 'Petras', 'amzius': 50}\n",
    "]\n",
    "print (zmones)\n",
    "print (zmones[0]['vardas'])\n",
    "for zmogus in zmones:\n",
    "    print (zmogus['vardas'])"
   ]
  },
  {
   "cell_type": "code",
   "execution_count": 36,
   "metadata": {},
   "outputs": [
    {
     "name": "stdout",
     "output_type": "stream",
     "text": [
      "{'vardas': 'Darius', 'amzius': 27, 'hobiai': ['tenisas', 'dviraciai']}\n",
      "3\n"
     ]
    }
   ],
   "source": [
    "print (me)\n",
    "print (len(me) )"
   ]
  },
  {
   "cell_type": "markdown",
   "metadata": {},
   "source": [
    "## DICTIONARY IS MUTABLE. BE CAREFULL "
   ]
  },
  {
   "cell_type": "markdown",
   "metadata": {},
   "source": [
    "look at lesson 3\n"
   ]
  },
  {
   "cell_type": "code",
   "execution_count": 39,
   "metadata": {},
   "outputs": [
    {
     "name": "stdout",
     "output_type": "stream",
     "text": [
      "{'vardas': 'Darius', 'amzius': 27, 'hobiai': ['tenisas', 'dviraciai'], 'pavarde': 'Grigaliunas'}\n",
      "{'vardas': 'Darius', 'amzius': 27, 'hobiai': ['tenisas', 'dviraciai'], 'pavarde': 'Grigaliunas'}\n"
     ]
    }
   ],
   "source": [
    "print (me)\n",
    "me['pavarde'] = 'Grigaliunas'\n",
    "print (me)"
   ]
  },
  {
   "cell_type": "code",
   "execution_count": 42,
   "metadata": {},
   "outputs": [
    {
     "name": "stdout",
     "output_type": "stream",
     "text": [
      "{'vardas': 'Darius', 'amzius': 27, 'hobiai': ['tenisas', 'dviraciai'], 'pavarde': 'Grigaliunas'}\n",
      "{'vardas': 'Darius', 'amzius': 27, 'hobiai': ['tenisas', 'dviraciai']}\n",
      "{'vardas': 'Darius', 'amzius': 27, 'hobiai': ['tenisas', 'dviraciai'], 'pavarde': 'Grigaliunas'}\n"
     ]
    }
   ],
   "source": [
    "# me.clear() # istrina viska\n",
    "me['pavarde'] = 'Grigaliunas'\n",
    "print (me)\n",
    "del me['pavarde'] # istrina konkrecia pora pagal raktazodi\n",
    "print (me)\n"
   ]
  },
  {
   "cell_type": "code",
   "execution_count": 44,
   "metadata": {},
   "outputs": [
    {
     "name": "stdout",
     "output_type": "stream",
     "text": [
      "{'vardas': 'Darius', 'amzius': 27, 'hobiai': ['tenisas', 'dviraciai'], 'pavarde': 'Grigaliunas'}\n",
      "Grigaliunas\n",
      "{'vardas': 'Darius', 'amzius': 27, 'hobiai': ['tenisas', 'dviraciai']}\n"
     ]
    }
   ],
   "source": [
    "me['pavarde'] = 'Grigaliunas'\n",
    "print (me)\n",
    "print ( me.pop('pavarde') )\n",
    "print (me)"
   ]
  },
  {
   "cell_type": "code",
   "execution_count": 45,
   "metadata": {},
   "outputs": [
    {
     "data": {
      "text/plain": [
       "'Grigaliunas'"
      ]
     },
     "execution_count": 45,
     "metadata": {},
     "output_type": "execute_result"
    }
   ],
   "source": [
    "{'vardas': 'Darius', 'amzius': 27, 'hobiai': ['tenisas', 'dviraciai'], 'pavarde': 'Grigaliunas'}.pop('pavarde')"
   ]
  },
  {
   "cell_type": "code",
   "execution_count": 50,
   "metadata": {},
   "outputs": [
    {
     "ename": "NameError",
     "evalue": "name 'someone' is not defined",
     "output_type": "error",
     "traceback": [
      "\u001b[1;31m---------------------------------------------------------------------------\u001b[0m",
      "\u001b[1;31mNameError\u001b[0m                                 Traceback (most recent call last)",
      "\u001b[1;32mc:\\Users\\Robotux\\Documents\\Python\\20220830VCSPYTVAK\\lesson_4.ipynb Cell 50\u001b[0m in \u001b[0;36m<module>\u001b[1;34m\u001b[0m\n\u001b[0;32m      <a href='vscode-notebook-cell:/c%3A/Users/Robotux/Documents/Python/20220830VCSPYTVAK/lesson_4.ipynb#Y102sZmlsZQ%3D%3D?line=2'>3</a>\u001b[0m someone \u001b[39m=\u001b[39m {\u001b[39m'\u001b[39m\u001b[39mvardas\u001b[39m\u001b[39m'\u001b[39m: \u001b[39m'\u001b[39m\u001b[39mDarius\u001b[39m\u001b[39m'\u001b[39m, \u001b[39m'\u001b[39m\u001b[39mamzius\u001b[39m\u001b[39m'\u001b[39m: \u001b[39m27\u001b[39m}\n\u001b[0;32m      <a href='vscode-notebook-cell:/c%3A/Users/Robotux/Documents/Python/20220830VCSPYTVAK/lesson_4.ipynb#Y102sZmlsZQ%3D%3D?line=3'>4</a>\u001b[0m \u001b[39mdel\u001b[39;00m someone\n\u001b[1;32m----> <a href='vscode-notebook-cell:/c%3A/Users/Robotux/Documents/Python/20220830VCSPYTVAK/lesson_4.ipynb#Y102sZmlsZQ%3D%3D?line=4'>5</a>\u001b[0m \u001b[39mprint\u001b[39m (someone)\n",
      "\u001b[1;31mNameError\u001b[0m: name 'someone' is not defined"
     ]
    }
   ],
   "source": [
    "skaicius = 1\n",
    "del skaicius\n",
    "someone = {'vardas': 'Darius', 'amzius': 27}\n",
    "del someone\n",
    "# print (someone) # already deleted"
   ]
  },
  {
   "cell_type": "code",
   "execution_count": 55,
   "metadata": {},
   "outputs": [
    {
     "name": "stdout",
     "output_type": "stream",
     "text": [
      "('hobiai', ['tenisas', 'dviraciai'])\n",
      "{'vardas': 'Darius', 'amzius': 27}\n"
     ]
    }
   ],
   "source": [
    "me['hobiai'] = ['tenisas', 'dviraciai']\n",
    "print ( me.popitem() )\n",
    "print(me)"
   ]
  },
  {
   "cell_type": "code",
   "execution_count": 54,
   "metadata": {},
   "outputs": [
    {
     "name": "stdout",
     "output_type": "stream",
     "text": [
      "{'vardas': 'Darius', 'amzius': 27}\n"
     ]
    }
   ],
   "source": [
    "print(me)"
   ]
  },
  {
   "cell_type": "code",
   "execution_count": 60,
   "metadata": {},
   "outputs": [
    {
     "name": "stdout",
     "output_type": "stream",
     "text": [
      "None\n",
      "nerastas\n",
      "0\n"
     ]
    }
   ],
   "source": [
    "# me['neegzistuojantis_raktas'] # klaida\n",
    "print (me.get('neegzistuojantis_raktas') ) # nera klaidos\n",
    "print (me.get('neegzistuojantis_raktas', 'nerastas') )\n",
    "print (me.get('neegzistuojantis_raktas', 0) )"
   ]
  },
  {
   "cell_type": "code",
   "execution_count": 61,
   "metadata": {},
   "outputs": [
    {
     "name": "stdout",
     "output_type": "stream",
     "text": [
      "{'vardas': 'Darius', 'amzius': 28, 'hobiai': ['tenisas', 'dviraciai', 'futbolas'], 'masina': 'Tesla'}\n"
     ]
    }
   ],
   "source": [
    "nauji_duomenys = { 'amzius': 28, 'hobiai': ['tenisas', 'dviraciai', 'futbolas'], 'masina': 'Tesla' }\n",
    "me.update( nauji_duomenys )\n",
    "print (me)"
   ]
  },
  {
   "cell_type": "code",
   "execution_count": 62,
   "metadata": {},
   "outputs": [
    {
     "name": "stdout",
     "output_type": "stream",
     "text": [
      "Darius\n",
      "28\n",
      "['tenisas', 'dviraciai', 'futbolas']\n",
      "Tesla\n"
     ]
    }
   ],
   "source": [
    "for value in me.values():\n",
    "    print (value)"
   ]
  },
  {
   "cell_type": "code",
   "execution_count": 63,
   "metadata": {},
   "outputs": [
    {
     "name": "stdout",
     "output_type": "stream",
     "text": [
      "vardas\n",
      "amzius\n",
      "hobiai\n",
      "masina\n"
     ]
    }
   ],
   "source": [
    "for key in me.keys():\n",
    "    print (key)"
   ]
  },
  {
   "cell_type": "code",
   "execution_count": 66,
   "metadata": {},
   "outputs": [
    {
     "name": "stdout",
     "output_type": "stream",
     "text": [
      "key is vardas with a value of: Darius\n",
      "key is amzius with a value of: 28\n",
      "key is hobiai with a value of: ['tenisas', 'dviraciai', 'futbolas']\n",
      "key is masina with a value of: Tesla\n"
     ]
    }
   ],
   "source": [
    "for key, value in me.items():\n",
    "    print (f'key is {key} with a value of: {value}')"
   ]
  },
  {
   "cell_type": "code",
   "execution_count": 67,
   "metadata": {},
   "outputs": [],
   "source": [
    "twitter_post = {\n",
    "  \"created_at\": \"Tue Feb 27 21:11:40 +0000 2018\",\n",
    "  \"id\": 968594506663669800,\n",
    "  \"id_str\": \"968594506663669760\",\n",
    "  \"text\": \"RT @honeydrop_506: 180222 ICN #백현 #BAEKHYUNnn나의 겨울과 너nn#iHeartAwards #BestFanArmy #EXOL @weareoneEXO https://t.co/hg7I3xAlBg\",\n",
    "  \"truncated\": False,\n",
    "  \"in_reply_to_status_id\": None,\n",
    "  \"in_reply_to_status_id_str\": None,\n",
    "  \"in_reply_to_user_id\": None,\n",
    "  \"in_reply_to_user_id_str\": None,\n",
    "  \"in_reply_to_screen_name\": None,\n",
    "  \"user\": {\n",
    "    \"id\": 4448809940,\n",
    "    \"id_str\": \"4448809940\",\n",
    "    \"name\": \"ayah\",\n",
    "    \"screen_name\": \"lovbyun\",\n",
    "    \"location\": \"bbh iu jjh pcy kjd dks\",\n",
    "    \"url\": \"https://curiouscat.me/baekhyun-l\",\n",
    "    \"description\": \"hi hello I love exo\",\n",
    "    \"translator_type\": \"none\",\n",
    "    \"protected\": False,\n",
    "    \"verified\": False,\n",
    "    \"followers_count\": 1142,\n",
    "    \"friends_count\": 125,\n",
    "    \"listed_count\": 20,\n",
    "    \"favourites_count\": 5712,\n",
    "    \"statuses_count\": 4011,\n",
    "    \"created_at\": \"Fri Dec 04 03:44:59 +0000 2015\",\n",
    "    \"utc_offset\": -28800,\n",
    "    \"time_zone\": \"Pacific Time (US & Canada)\",\n",
    "    \"geo_enabled\": False,\n",
    "    \"lang\": \"en\",\n",
    "    \"contributors_enabled\": False,\n",
    "    \"is_translator\": False,\n",
    "    \"profile_background_color\": \"000000\",\n",
    "    \"profile_background_image_url\": \"http://abs.twimg.com/images/themes/theme1/bg.png\",\n",
    "    \"profile_background_image_url_https\": \"https://abs.twimg.com/images/themes/theme1/bg.png\",\n",
    "    \"profile_background_tile\": False,\n",
    "    \"profile_link_color\": \"F58EA8\",\n",
    "    \"profile_sidebar_border_color\": \"000000\",\n",
    "    \"profile_sidebar_fill_color\": \"000000\",\n",
    "    \"profile_text_color\": \"000000\",\n",
    "    \"profile_use_background_image\": False,\n",
    "    \"profile_image_url\": \"http://pbs.twimg.com/profile_images/967130320259526656/0xZ-wxXJ_normal.jpg\",\n",
    "    \"profile_image_url_https\": \"https://pbs.twimg.com/profile_images/967130320259526656/0xZ-wxXJ_normal.jpg\",\n",
    "    \"profile_banner_url\": \"https://pbs.twimg.com/profile_banners/4448809940/1519340670\",\n",
    "    \"default_profile\": False,\n",
    "    \"default_profile_image\": False,\n",
    "    \"following\": None,\n",
    "    \"follow_request_sent\": None,\n",
    "    \"notifications\": None\n",
    "  },\n",
    "}"
   ]
  },
  {
   "cell_type": "code",
   "execution_count": 70,
   "metadata": {},
   "outputs": [
    {
     "data": {
      "text/plain": [
       "125"
      ]
     },
     "execution_count": 70,
     "metadata": {},
     "output_type": "execute_result"
    }
   ],
   "source": [
    "twitter_post[ 'user' ][ 'friends_count' ]"
   ]
  },
  {
   "cell_type": "markdown",
   "metadata": {},
   "source": [
    "# Set"
   ]
  },
  {
   "cell_type": "code",
   "execution_count": 73,
   "metadata": {},
   "outputs": [
    {
     "name": "stdout",
     "output_type": "stream",
     "text": [
      "{1, 2, 3, 100, 4, 'a', 'b'}\n"
     ]
    }
   ],
   "source": [
    "my_set = { 100,1,2,3,4,1,1,1,1,'a','b' }\n",
    "print(my_set)"
   ]
  },
  {
   "cell_type": "code",
   "execution_count": 74,
   "metadata": {},
   "outputs": [
    {
     "ename": "TypeError",
     "evalue": "'set' object is not subscriptable",
     "output_type": "error",
     "traceback": [
      "\u001b[1;31m---------------------------------------------------------------------------\u001b[0m",
      "\u001b[1;31mTypeError\u001b[0m                                 Traceback (most recent call last)",
      "\u001b[1;32mc:\\Users\\Robotux\\Documents\\Python\\20220830VCSPYTVAK\\lesson_4.ipynb Cell 62\u001b[0m in \u001b[0;36m<module>\u001b[1;34m\u001b[0m\n\u001b[1;32m----> <a href='vscode-notebook-cell:/c%3A/Users/Robotux/Documents/Python/20220830VCSPYTVAK/lesson_4.ipynb#Y121sZmlsZQ%3D%3D?line=0'>1</a>\u001b[0m my_set[\u001b[39m0\u001b[39;49m]\n",
      "\u001b[1;31mTypeError\u001b[0m: 'set' object is not subscriptable"
     ]
    }
   ],
   "source": [
    "my_set[0]"
   ]
  },
  {
   "cell_type": "code",
   "execution_count": 76,
   "metadata": {},
   "outputs": [
    {
     "name": "stdout",
     "output_type": "stream",
     "text": [
      "False\n",
      "True\n"
     ]
    }
   ],
   "source": [
    "print (5 in my_set)\n",
    "print (1 in my_set)"
   ]
  },
  {
   "cell_type": "code",
   "execution_count": 79,
   "metadata": {},
   "outputs": [
    {
     "name": "stdout",
     "output_type": "stream",
     "text": [
      "{1, 2, 3, 100, 4, 'a', 'b'}\n"
     ]
    },
    {
     "data": {
      "text/plain": [
       "7"
      ]
     },
     "execution_count": 79,
     "metadata": {},
     "output_type": "execute_result"
    }
   ],
   "source": [
    "print(my_set)\n",
    "len(my_set)"
   ]
  },
  {
   "cell_type": "code",
   "execution_count": 84,
   "metadata": {},
   "outputs": [
    {
     "name": "stdout",
     "output_type": "stream",
     "text": [
      "{1, 2, 3, 100, 4, 'a', 'b'}\n",
      "{1, 2, 3, 100, 4, 'a', 254, 'b'}\n",
      "{1, 2, 3, 100, 4, 'a', 300, 'b', 400, 254}\n"
     ]
    }
   ],
   "source": [
    "my_set = {1, 2, 3, 100, 4, 'a', 'b'}\n",
    "my_set.add(4)\n",
    "print(my_set)\n",
    "my_set.add(254)\n",
    "print(my_set)\n",
    "my_set.update( {300,400,1 } )\n",
    "print(my_set)"
   ]
  },
  {
   "cell_type": "code",
   "execution_count": 86,
   "metadata": {},
   "outputs": [
    {
     "ename": "KeyError",
     "evalue": "4",
     "output_type": "error",
     "traceback": [
      "\u001b[1;31m---------------------------------------------------------------------------\u001b[0m",
      "\u001b[1;31mKeyError\u001b[0m                                  Traceback (most recent call last)",
      "\u001b[1;32mc:\\Users\\Robotux\\Documents\\Python\\20220830VCSPYTVAK\\lesson_4.ipynb Cell 66\u001b[0m in \u001b[0;36m<module>\u001b[1;34m\u001b[0m\n\u001b[0;32m      <a href='vscode-notebook-cell:/c%3A/Users/Robotux/Documents/Python/20220830VCSPYTVAK/lesson_4.ipynb#Y126sZmlsZQ%3D%3D?line=0'>1</a>\u001b[0m my_set \u001b[39m=\u001b[39m {\u001b[39m1\u001b[39m, \u001b[39m2\u001b[39m, \u001b[39m3\u001b[39m, \u001b[39m100\u001b[39m, \u001b[39m4\u001b[39m, \u001b[39m'\u001b[39m\u001b[39ma\u001b[39m\u001b[39m'\u001b[39m, \u001b[39m300\u001b[39m, \u001b[39m'\u001b[39m\u001b[39mb\u001b[39m\u001b[39m'\u001b[39m, \u001b[39m400\u001b[39m, \u001b[39m254\u001b[39m}\n\u001b[0;32m      <a href='vscode-notebook-cell:/c%3A/Users/Robotux/Documents/Python/20220830VCSPYTVAK/lesson_4.ipynb#Y126sZmlsZQ%3D%3D?line=1'>2</a>\u001b[0m my_set\u001b[39m.\u001b[39mremove(\u001b[39m4\u001b[39m)\n\u001b[1;32m----> <a href='vscode-notebook-cell:/c%3A/Users/Robotux/Documents/Python/20220830VCSPYTVAK/lesson_4.ipynb#Y126sZmlsZQ%3D%3D?line=2'>3</a>\u001b[0m my_set\u001b[39m.\u001b[39;49mremove(\u001b[39m4\u001b[39;49m)\n",
      "\u001b[1;31mKeyError\u001b[0m: 4"
     ]
    }
   ],
   "source": [
    "my_set = {1, 2, 3, 100, 4, 'a', 300, 'b', 400, 254}\n",
    "my_set.remove(4)\n",
    "my_set.remove(4) # klaida, nes neegzistuoja"
   ]
  },
  {
   "cell_type": "code",
   "execution_count": 87,
   "metadata": {},
   "outputs": [],
   "source": [
    "my_set = {1, 2, 3, 100, 4, 'a', 300, 'b', 400, 254}\n",
    "my_set.discard(4)\n",
    "my_set.discard(4) # klaidos nera"
   ]
  },
  {
   "cell_type": "code",
   "execution_count": 90,
   "metadata": {},
   "outputs": [
    {
     "name": "stdout",
     "output_type": "stream",
     "text": [
      "{1, 2, 3, 100, 'a', 300, 'b', 400, 254}\n",
      "{400, 1000, 2}\n",
      "{1, 2, 3, 100, 'a', 1000, 300, 'b', 400, 254}\n"
     ]
    }
   ],
   "source": [
    "my_set_2 = {2,400,1000}\n",
    "print (my_set)\n",
    "print (my_set_2)\n",
    "print (my_set.union(my_set_2) )"
   ]
  },
  {
   "cell_type": "code",
   "execution_count": 91,
   "metadata": {},
   "outputs": [
    {
     "name": "stdout",
     "output_type": "stream",
     "text": [
      "{1, 'a', 3, 100, 300, 'b', 254}\n"
     ]
    }
   ],
   "source": [
    "print (my_set.difference(my_set_2) )"
   ]
  },
  {
   "cell_type": "code",
   "execution_count": 92,
   "metadata": {},
   "outputs": [
    {
     "name": "stdout",
     "output_type": "stream",
     "text": [
      "{400, 2}\n"
     ]
    }
   ],
   "source": [
    "print (my_set.intersection(my_set_2) )"
   ]
  },
  {
   "cell_type": "code",
   "execution_count": 95,
   "metadata": {},
   "outputs": [
    {
     "name": "stdout",
     "output_type": "stream",
     "text": [
      "True\n",
      "False\n",
      "True\n"
     ]
    }
   ],
   "source": [
    "small_set = {2,4}\n",
    "small_set_2 = {2,4,6}\n",
    "big_set = {1,2,3,4,5}\n",
    "print(small_set.issubset(big_set) )\n",
    "print(small_set_2.issubset(big_set) )\n",
    "print(big_set.issuperset (small_set) )"
   ]
  },
  {
   "cell_type": "code",
   "execution_count": 98,
   "metadata": {},
   "outputs": [
    {
     "name": "stdout",
     "output_type": "stream",
     "text": [
      "{1, 2, 3, 4, 5}\n",
      "{1, 2, 4, 5, 7}\n"
     ]
    }
   ],
   "source": [
    "# option 1\n",
    "big_set = {1,2,3,4,5}\n",
    "print (big_set)\n",
    "big_set.discard(3)\n",
    "big_set.add(7)\n",
    "print (big_set)"
   ]
  },
  {
   "cell_type": "code",
   "execution_count": 99,
   "metadata": {},
   "outputs": [
    {
     "name": "stdout",
     "output_type": "stream",
     "text": [
      "{1, 2, 3, 4, 5}\n",
      "{1, 2, 4, 5, 7}\n"
     ]
    }
   ],
   "source": [
    "# option 2\n",
    "big_set = {1,2,3,4,5}\n",
    "print (big_set)\n",
    "tmp_list = list( big_set )\n",
    "tmp_list[2] = 7\n",
    "big_set = set( tmp_list )\n",
    "print (big_set)"
   ]
  }
 ],
 "metadata": {
  "kernelspec": {
   "display_name": "Python 3.10.6 64-bit",
   "language": "python",
   "name": "python3"
  },
  "language_info": {
   "codemirror_mode": {
    "name": "ipython",
    "version": 3
   },
   "file_extension": ".py",
   "mimetype": "text/x-python",
   "name": "python",
   "nbconvert_exporter": "python",
   "pygments_lexer": "ipython3",
   "version": "3.10.6"
  },
  "orig_nbformat": 4,
  "vscode": {
   "interpreter": {
    "hash": "e5c659902e25f6e168175e0a23e35de31816c23dea96122aa0d533fce758bf79"
   }
  }
 },
 "nbformat": 4,
 "nbformat_minor": 2
}
