{
 "cells": [
  {
   "cell_type": "code",
   "execution_count": 21,
   "metadata": {},
   "outputs": [],
   "source": [
    "import this"
   ]
  },
  {
   "cell_type": "markdown",
   "metadata": {},
   "source": [
    "## String variables"
   ]
  },
  {
   "cell_type": "code",
   "execution_count": 22,
   "metadata": {},
   "outputs": [],
   "source": [
    "name = \"Darius\"\n",
    "surname = \"Grigaliunas\"\n"
   ]
  },
  {
   "cell_type": "code",
   "execution_count": 23,
   "metadata": {},
   "outputs": [
    {
     "name": "stdout",
     "output_type": "stream",
     "text": [
      "Darius\n"
     ]
    }
   ],
   "source": [
    "print( name )"
   ]
  },
  {
   "cell_type": "code",
   "execution_count": 24,
   "metadata": {},
   "outputs": [
    {
     "name": "stdout",
     "output_type": "stream",
     "text": [
      "D\n",
      "s\n",
      "s\n"
     ]
    }
   ],
   "source": [
    "print( name[0] )\n",
    "print( name[5] )\n",
    "print( name[-1] )"
   ]
  },
  {
   "cell_type": "markdown",
   "metadata": {},
   "source": [
    "### slicing"
   ]
  },
  {
   "cell_type": "code",
   "execution_count": 25,
   "metadata": {},
   "outputs": [
    {
     "name": "stdout",
     "output_type": "stream",
     "text": [
      "Darius\n",
      "Dar\n",
      "ius\n"
     ]
    }
   ],
   "source": [
    "print(name)\n",
    "# [start:end]\n",
    "print( name[0:3] )\n",
    "print( name[3:] )"
   ]
  },
  {
   "cell_type": "code",
   "execution_count": 26,
   "metadata": {},
   "outputs": [
    {
     "name": "stdout",
     "output_type": "stream",
     "text": [
      "Hello world\n",
      "el ol\n",
      "el\n",
      "eood\n"
     ]
    }
   ],
   "source": [
    "text = \"Hello world\"\n",
    "print(text)\n",
    "# [start:end:step]\n",
    "print(text[1::2])\n",
    "print(text[1:5:2])\n",
    "print(text[1::3])"
   ]
  },
  {
   "cell_type": "code",
   "execution_count": 27,
   "metadata": {},
   "outputs": [
    {
     "name": "stdout",
     "output_type": "stream",
     "text": [
      "I can't go today\n",
      "I can't go today\n",
      "I can't go today\n"
     ]
    }
   ],
   "source": [
    "# tai yra komentaras, shortcut Ctrl + /\n",
    "# text = 'I can't go today'\n",
    "text = \"I can't go today\"\n",
    "text_2 = 'I can\\'t go today'\n",
    "text_3 = \"\"\"I can't go today\"\"\"\n",
    "print (text)\n",
    "print (text_2)\n",
    "print (text_3)"
   ]
  },
  {
   "cell_type": "code",
   "execution_count": 28,
   "metadata": {},
   "outputs": [
    {
     "name": "stdout",
     "output_type": "stream",
     "text": [
      "\n",
      "line 1\n",
      "line 2\n",
      "\n"
     ]
    }
   ],
   "source": [
    "# BAD\n",
    "# formatted_text = \"\n",
    "# line 1\n",
    "# line 2\n",
    "# \"\n",
    "formatted_text = \"\"\"\n",
    "line 1\n",
    "line 2\n",
    "\"\"\"\n",
    "print (formatted_text)"
   ]
  },
  {
   "cell_type": "code",
   "execution_count": 29,
   "metadata": {},
   "outputs": [
    {
     "name": "stdout",
     "output_type": "stream",
     "text": [
      "I can't go today\n",
      "16\n"
     ]
    }
   ],
   "source": [
    "print (text)\n",
    "print (len(text) )"
   ]
  },
  {
   "cell_type": "markdown",
   "metadata": {},
   "source": [
    "### variable names"
   ]
  },
  {
   "cell_type": "code",
   "execution_count": 30,
   "metadata": {},
   "outputs": [],
   "source": [
    "# BAD can't start with a number\n",
    "# 2_text = \"text\""
   ]
  },
  {
   "cell_type": "code",
   "execution_count": 31,
   "metadata": {},
   "outputs": [],
   "source": [
    "# BAD overwriting standard function\n",
    "# len = 20\n"
   ]
  },
  {
   "cell_type": "code",
   "execution_count": 32,
   "metadata": {},
   "outputs": [
    {
     "name": "stdout",
     "output_type": "stream",
     "text": [
      "16\n"
     ]
    }
   ],
   "source": [
    "print (len(text) )"
   ]
  },
  {
   "cell_type": "code",
   "execution_count": 34,
   "metadata": {},
   "outputs": [
    {
     "name": "stdout",
     "output_type": "stream",
     "text": [
      "3\n"
     ]
    }
   ],
   "source": [
    "SOME_CONSTANT = 5\n",
    "# SOME_CONSTANT = 3 # works but should not be overwritten\n",
    "print (SOME_CONSTANT)"
   ]
  },
  {
   "cell_type": "markdown",
   "metadata": {},
   "source": [
    "Style Guide for Python Code\n",
    "https://peps.python.org/pep-0008 "
   ]
  },
  {
   "cell_type": "code",
   "execution_count": 39,
   "metadata": {},
   "outputs": [
    {
     "name": "stdout",
     "output_type": "stream",
     "text": [
      "I can't go today\n",
      "I can't go tomorrow\n",
      "I can't go today\n",
      "I can't go tomorrow\n"
     ]
    }
   ],
   "source": [
    "print (text)\n",
    "print (text.replace('today', 'tomorrow') )\n",
    "print (text)\n",
    "\n",
    "# now it is overwritten\n",
    "text = text.replace('today', 'tomorrow')\n",
    "print(text)"
   ]
  },
  {
   "cell_type": "markdown",
   "metadata": {},
   "source": [
    "# Numbers \n",
    "`bold`\n",
    "\n",
    "list:\n",
    "* one\n",
    "* two"
   ]
  },
  {
   "cell_type": "code",
   "execution_count": null,
   "metadata": {},
   "outputs": [],
   "source": []
  }
 ],
 "metadata": {
  "kernelspec": {
   "display_name": "Python 3.10.2 64-bit",
   "language": "python",
   "name": "python3"
  },
  "language_info": {
   "codemirror_mode": {
    "name": "ipython",
    "version": 3
   },
   "file_extension": ".py",
   "mimetype": "text/x-python",
   "name": "python",
   "nbconvert_exporter": "python",
   "pygments_lexer": "ipython3",
   "version": "3.10.2"
  },
  "orig_nbformat": 4,
  "vscode": {
   "interpreter": {
    "hash": "db50a459ab6695ace3368e8957af3456c8c93e92d9fe6c38987133d01669da40"
   }
  }
 },
 "nbformat": 4,
 "nbformat_minor": 2
}
