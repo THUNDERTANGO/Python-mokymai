{
 "cells": [
  {
   "cell_type": "code",
   "execution_count": 6,
   "metadata": {},
   "outputs": [
    {
     "name": "stdout",
     "output_type": "stream",
     "text": [
      "Ford\n",
      "3\n",
      "{'brand': 'Ford', 'model': 'Mustang', 'year': 2022}\n",
      "{'brand': 'Ford', 'model': 'Mustang', 'year': 2022, 'color': 'red', 'used': True}\n",
      "{'model': 'Mustang', 'year': 2022, 'color': 'red', 'used': True}\n",
      "{'model': 'Mustang', 'year': None, 'color': 'red', 'used': True}\n"
     ]
    }
   ],
   "source": [
    "car =\t{\n",
    "  \"brand\": \"Ford\",\n",
    "  \"model\": \"Mustang\",\n",
    "  \"year\": 1964\n",
    "}\n",
    "\n",
    "print(car['brand'])\n",
    "print(len(car))\n",
    "\n",
    "car['year'] = 2022\n",
    "print(car)\n",
    "\n",
    "car['color'] = 'red'\n",
    "car['used'] = True\n",
    "#car.update({'color'='red', 'used':True})\n",
    "\n",
    "print(car)\n",
    "\n",
    "car.pop('brand')\n",
    "print(car)\n",
    "\n",
    "car['year'] = None\n",
    "print(car)\n"
   ]
  },
  {
   "cell_type": "code",
   "execution_count": 8,
   "metadata": {},
   "outputs": [
    {
     "name": "stdout",
     "output_type": "stream",
     "text": [
      "{5, 'apple', 'banana', 'cherry'}\n"
     ]
    }
   ],
   "source": [
    "fruits = {'apple', 'banana', 'cherry'}\n",
    "fruits.add(5)\n",
    "print(fruits)\n",
    "\n",
    "\n"
   ]
  },
  {
   "cell_type": "code",
   "execution_count": 2,
   "metadata": {},
   "outputs": [],
   "source": [
    "def print_hello():\n",
    "    print('Hello world')"
   ]
  },
  {
   "cell_type": "code",
   "execution_count": 4,
   "metadata": {},
   "outputs": [
    {
     "name": "stdout",
     "output_type": "stream",
     "text": [
      "Hello world\n",
      "Hello world\n",
      "Hello world\n"
     ]
    }
   ],
   "source": [
    "print_hello()\n",
    "print_hello()\n",
    "print_hello()"
   ]
  },
  {
   "cell_type": "code",
   "execution_count": 6,
   "metadata": {},
   "outputs": [
    {
     "name": "stdout",
     "output_type": "stream",
     "text": [
      "Hello Domas!\n",
      "Hello Arturas!\n"
     ]
    }
   ],
   "source": [
    "def hello_to(name):\n",
    "        print(f'Hello {name}!')\n",
    "hello_to('Domas')\n",
    "hello_to('Arturas')"
   ]
  },
  {
   "cell_type": "code",
   "execution_count": 8,
   "metadata": {},
   "outputs": [],
   "source": [
    "def subtract_numbers(num_1, num_2):\n",
    "    result = num_1 - num_2\n",
    "    print(result)"
   ]
  },
  {
   "cell_type": "code",
   "execution_count": 10,
   "metadata": {},
   "outputs": [
    {
     "name": "stdout",
     "output_type": "stream",
     "text": [
      "2\n",
      "-76\n",
      "None\n",
      "None\n"
     ]
    }
   ],
   "source": [
    "ats = subtract_numbers(5,3)\n",
    "ats_2 = subtract_numbers(10,86)\n",
    "print(ats)\n",
    "print(ats_2)"
   ]
  },
  {
   "cell_type": "code",
   "execution_count": 11,
   "metadata": {},
   "outputs": [],
   "source": [
    "def subtract_numbers(num_1, num_2):\n",
    "    result = num_1 - num_2\n",
    "    # print(result)\n",
    "    return result\n",
    "    print('THIS NEVER GET PRINTED')"
   ]
  },
  {
   "cell_type": "code",
   "execution_count": 14,
   "metadata": {},
   "outputs": [
    {
     "name": "stdout",
     "output_type": "stream",
     "text": [
      "ats: 2\n",
      "ats_2: -76\n",
      "2\n"
     ]
    }
   ],
   "source": [
    "ats = subtract_numbers(5,3)\n",
    "ats_2 = subtract_numbers(10,86)\n",
    "print(f'ats: {ats}')\n",
    "print(f'ats_2: {ats_2}')\n",
    "print (subtract_numbers(5,3))"
   ]
  },
  {
   "cell_type": "code",
   "execution_count": 17,
   "metadata": {},
   "outputs": [
    {
     "name": "stdout",
     "output_type": "stream",
     "text": [
      "8\n",
      "3\n"
     ]
    }
   ],
   "source": [
    "def subtract_numbers_2(num_1, num_2=5):\n",
    "    result = num_1 - num_2\n",
    "    return result\n",
    "    print('THIS NEVER GET PRINTED')\n",
    "\n",
    "print(subtract_numbers_2(13))\n",
    "print(subtract_numbers_2(13,10))\n"
   ]
  },
  {
   "cell_type": "code",
   "execution_count": 22,
   "metadata": {},
   "outputs": [
    {
     "name": "stdout",
     "output_type": "stream",
     "text": [
      "12\n",
      "2.0\n"
     ]
    }
   ],
   "source": [
    "def first_function (num_1, num_2):\n",
    "    if (num_1 + num_2)%2 == 0:\n",
    "        result = num_1 * num_2\n",
    "    else:\n",
    "        result = num_1 / num_2\n",
    "    return result\n",
    "print( first_function(2,6))\n",
    "print( first_function(10,5))"
   ]
  },
  {
   "cell_type": "code",
   "execution_count": 29,
   "metadata": {},
   "outputs": [],
   "source": [
    "def say_hello(name):\n",
    "    if isinstance(name, str):\n",
    "        print(f'Hello {name}')\n",
    "    else:\n",
    "        print('Provided argument value is not a string')\n",
    "\n"
   ]
  },
  {
   "cell_type": "code",
   "execution_count": 30,
   "metadata": {},
   "outputs": [
    {
     "name": "stdout",
     "output_type": "stream",
     "text": [
      "Hello from a new function name\n",
      "Provided argument value is not a string\n"
     ]
    }
   ],
   "source": [
    "my_say_hello = say_hello\n",
    "my_say_hello('from a new function name')\n",
    "my_say_hello(2316516)"
   ]
  },
  {
   "cell_type": "code",
   "execution_count": 32,
   "metadata": {},
   "outputs": [],
   "source": [
    "def mano_funkcija( *args ):\n",
    "    result_dict = {}\n",
    "    for num in range(1,11):\n",
    "        result_dict[ num ] = 0\n",
    "        for arg in args:\n",
    "            if arg % num == 0:\n",
    "                result_dict[ num ] += 1\n",
    "    \n",
    "    return result_dict\n",
    "\n",
    "\n"
   ]
  },
  {
   "cell_type": "code",
   "execution_count": 34,
   "metadata": {},
   "outputs": [
    {
     "data": {
      "text/plain": [
       "{1: 4, 2: 2, 3: 1, 4: 0, 5: 2, 6: 1, 7: 0, 8: 0, 9: 0, 10: 1}"
      ]
     },
     "execution_count": 34,
     "metadata": {},
     "output_type": "execute_result"
    }
   ],
   "source": [
    "mano_funkcija(1,2,65,30)"
   ]
  },
  {
   "cell_type": "code",
   "execution_count": 1,
   "metadata": {},
   "outputs": [],
   "source": [
    "\n",
    "def functionExercise (list_1, list_2):\n",
    "    list_1 = list(filter(lambda x:x <= 10, list_1))\n",
    "    print(list_1)\n",
    "    a_1 = sum(list_1)\n",
    "    print(a_1)\n",
    "    print(list_2)\n",
    "    list_2 = list(filter(lambda x: abs(x) > 10, list_2))\n",
    "    a_2 = sum(list_2)\n",
    "    return a_1 * a_2\n",
    "\n"
   ]
  },
  {
   "cell_type": "code",
   "execution_count": 2,
   "metadata": {},
   "outputs": [],
   "source": [
    "def functionExercise (list_1, list_2):\n",
    "    list_1 = [num for num in list_1 if num <= 10]\n",
    "    list_2 = [num for num in list_1 if abs(num) >= 10]\n",
    "    return sum(list_1 * sum(list_2))"
   ]
  },
  {
   "cell_type": "code",
   "execution_count": 3,
   "metadata": {},
   "outputs": [
    {
     "data": {
      "text/plain": [
       "340"
      ]
     },
     "execution_count": 3,
     "metadata": {},
     "output_type": "execute_result"
    }
   ],
   "source": [
    "functionExercise ([10,9,6,16,15,55,2,7],[20,642,33,76,9,7,2])\n"
   ]
  },
  {
   "cell_type": "code",
   "execution_count": 5,
   "metadata": {},
   "outputs": [],
   "source": []
  },
  {
   "cell_type": "code",
   "execution_count": null,
   "metadata": {},
   "outputs": [],
   "source": []
  }
 ],
 "metadata": {
  "kernelspec": {
   "display_name": "Python 3.10.6 64-bit",
   "language": "python",
   "name": "python3"
  },
  "language_info": {
   "codemirror_mode": {
    "name": "ipython",
    "version": 3
   },
   "file_extension": ".py",
   "mimetype": "text/x-python",
   "name": "python",
   "nbconvert_exporter": "python",
   "pygments_lexer": "ipython3",
   "version": "3.10.6"
  },
  "orig_nbformat": 4,
  "vscode": {
   "interpreter": {
    "hash": "e5c659902e25f6e168175e0a23e35de31816c23dea96122aa0d533fce758bf79"
   }
  }
 },
 "nbformat": 4,
 "nbformat_minor": 2
}
