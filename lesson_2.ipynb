{
 "cells": [
  {
   "cell_type": "code",
   "execution_count": 20,
   "metadata": {},
   "outputs": [],
   "source": [
    "text = \"Hello world\""
   ]
  },
  {
   "cell_type": "code",
   "execution_count": 21,
   "metadata": {},
   "outputs": [
    {
     "name": "stdout",
     "output_type": "stream",
     "text": [
      "False\n",
      "True\n"
     ]
    }
   ],
   "source": [
    "print(text.isdigit())\n",
    "print('1973'.strip().isdigit())\n",
    "# strip pasalina tarpus nuo sonu"
   ]
  },
  {
   "cell_type": "code",
   "execution_count": 22,
   "metadata": {},
   "outputs": [
    {
     "name": "stdout",
     "output_type": "stream",
     "text": [
      "MY NAME IS DOMAS\n",
      "my name is domas\n",
      "My name is domas\n",
      "1\n",
      "11\n",
      "My name is \n",
      "My name is Domas\n"
     ]
    }
   ],
   "source": [
    "text_2 = 'My name is Domas'\n",
    "print(text_2.upper())\n",
    "print(text_2.lower())\n",
    "print(text_2.capitalize())\n",
    "print(text_2.count('Domas'))\n",
    "print(text_2.find('Domas'))\n",
    "print(text_2[0:text_2.find('Domas')])\n",
    "print(text_2[0:text_2.find('Domas')+len('Domas')])"
   ]
  },
  {
   "cell_type": "code",
   "execution_count": 23,
   "metadata": {},
   "outputs": [
    {
     "data": {
      "text/plain": [
       "'Domas Matulis'"
      ]
     },
     "execution_count": 23,
     "metadata": {},
     "output_type": "execute_result"
    }
   ],
   "source": [
    "'Domas' + ' ' 'Matulis'"
   ]
  },
  {
   "cell_type": "code",
   "execution_count": 24,
   "metadata": {},
   "outputs": [
    {
     "data": {
      "text/plain": [
       "'Domas Matulis'"
      ]
     },
     "execution_count": 24,
     "metadata": {},
     "output_type": "execute_result"
    }
   ],
   "source": [
    "'Domas' + ' ' 'Matulis'"
   ]
  },
  {
   "cell_type": "code",
   "execution_count": 25,
   "metadata": {},
   "outputs": [
    {
     "data": {
      "text/plain": [
       "'hi hi hi hi hi hi hi hi hi hi hi hi hi hi hi hi hi hi hi hi hi hi hi hi hi hi hi hi hi hi hi hi hi hi hi hi hi hi hi hi hi hi hi hi hi hi hi hi hi hi hi hi hi hi hi hi hi hi hi hi hi hi hi hi hi hi hi hi hi hi hi hi hi hi hi hi hi hi hi hi hi hi hi hi hi hi hi hi hi hi hi hi hi hi hi hi hi hi hi hi '"
      ]
     },
     "execution_count": 25,
     "metadata": {},
     "output_type": "execute_result"
    }
   ],
   "source": [
    "'hi ' * 100"
   ]
  },
  {
   "cell_type": "code",
   "execution_count": 26,
   "metadata": {},
   "outputs": [
    {
     "name": "stdout",
     "output_type": "stream",
     "text": [
      "Domas Matulis meow meow\n",
      "Domas Matulis, nice to meet you\n"
     ]
    }
   ],
   "source": [
    "name = 'Domas'\n",
    "surname = 'Matulis'\n",
    "number = 51\n",
    "print(name + ' ' + surname + '', 'meow meow')     \n",
    "print(f'{name} {surname}, nice to meet you')"
   ]
  },
  {
   "cell_type": "code",
   "execution_count": 34,
   "metadata": {},
   "outputs": [
    {
     "name": "stdout",
     "output_type": "stream",
     "text": [
      "Domas Matulis\n"
     ]
    }
   ],
   "source": [
    "name = 'Domas'\n",
    "surname = \"Matulis\"\n",
    "print(f'{name} {surname}')"
   ]
  },
  {
   "cell_type": "code",
   "execution_count": 35,
   "metadata": {},
   "outputs": [
    {
     "name": "stdout",
     "output_type": "stream",
     "text": [
      "Python makes me really really happy!\n",
      "PyThOn makes me really really happy!\n"
     ]
    }
   ],
   "source": [
    "text = 'Python makes me really really happy!'\n",
    "print(text.capitalize())\n",
    "print(text.replace('Python', 'PyThOn'))\n"
   ]
  },
  {
   "cell_type": "code",
   "execution_count": 40,
   "metadata": {},
   "outputs": [
    {
     "name": "stdout",
     "output_type": "stream",
     "text": [
      "happy\n",
      "happy\n"
     ]
    }
   ],
   "source": [
    "text = 'Hello World, I am happy to learn Python!'\n",
    "print(text[18:23])\n",
    "print(text[text.find('happy'):text.find('happy') + len('happy')])"
   ]
  },
  {
   "cell_type": "markdown",
   "metadata": {},
   "source": [
    "### NUMBERS"
   ]
  },
  {
   "cell_type": "code",
   "execution_count": null,
   "metadata": {},
   "outputs": [],
   "source": [
    "number = 32156\n",
    "float_number = 32132.41\n"
   ]
  },
  {
   "cell_type": "code",
   "execution_count": 41,
   "metadata": {},
   "outputs": [
    {
     "name": "stdout",
     "output_type": "stream",
     "text": [
      "<class 'int'>\n"
     ]
    }
   ],
   "source": [
    "print(type(number))"
   ]
  },
  {
   "cell_type": "markdown",
   "metadata": {},
   "source": [
    "# operations"
   ]
  },
  {
   "cell_type": "code",
   "execution_count": 45,
   "metadata": {},
   "outputs": [
    {
     "name": "stdout",
     "output_type": "stream",
     "text": [
      "64288.41 yra <class 'float'>\n"
     ]
    }
   ],
   "source": [
    "number = 32156\n",
    "float_number = 32132.41\n",
    "suma = number + float_number\n",
    "print(f'{suma} yra {type(suma)}')\n"
   ]
  },
  {
   "cell_type": "code",
   "execution_count": 46,
   "metadata": {},
   "outputs": [
    {
     "name": "stdout",
     "output_type": "stream",
     "text": [
      "390.625\n"
     ]
    }
   ],
   "source": [
    "a = 384000\n",
    "b = 150000000\n",
    "print(b / a)"
   ]
  },
  {
   "cell_type": "code",
   "execution_count": 50,
   "metadata": {},
   "outputs": [
    {
     "name": "stdout",
     "output_type": "stream",
     "text": [
      "11230\n"
     ]
    }
   ],
   "source": [
    "from datetime import datetime\n",
    "birthday = datetime(1991, 12, 3)\n",
    "now = datetime.now()\n",
    "time_passed = now - birthday\n",
    "print(time_passed.days)"
   ]
  },
  {
   "cell_type": "markdown",
   "metadata": {},
   "source": [
    "# list"
   ]
  },
  {
   "cell_type": "code",
   "execution_count": 51,
   "metadata": {},
   "outputs": [],
   "source": [
    "cities = ['Vilnius', 'Kaunas', 'Klaipeda']\n"
   ]
  },
  {
   "cell_type": "code",
   "execution_count": 52,
   "metadata": {},
   "outputs": [
    {
     "name": "stdout",
     "output_type": "stream",
     "text": [
      "Vilnius\n",
      "Klaipeda\n"
     ]
    }
   ],
   "source": [
    "print(cities[0])\n",
    "print(cities[-1])"
   ]
  },
  {
   "cell_type": "code",
   "execution_count": 53,
   "metadata": {},
   "outputs": [
    {
     "name": "stdout",
     "output_type": "stream",
     "text": [
      "[1, 2, 3, 4, 5, 500]\n"
     ]
    }
   ],
   "source": [
    "numbers = [1,2,3,4,5]\n",
    "numbers.append(500)\n",
    "print(numbers)"
   ]
  },
  {
   "cell_type": "code",
   "execution_count": 54,
   "metadata": {},
   "outputs": [],
   "source": [
    "numbers.insert(2, 1000)"
   ]
  },
  {
   "cell_type": "code",
   "execution_count": 55,
   "metadata": {},
   "outputs": [
    {
     "name": "stdout",
     "output_type": "stream",
     "text": [
      "[1, 2, 1000, 3, 4, 5, 500]\n"
     ]
    }
   ],
   "source": [
    "print(numbers)"
   ]
  },
  {
   "cell_type": "code",
   "execution_count": 57,
   "metadata": {},
   "outputs": [
    {
     "name": "stdout",
     "output_type": "stream",
     "text": [
      "500\n"
     ]
    }
   ],
   "source": [
    "print(numbers.pop())"
   ]
  },
  {
   "cell_type": "code",
   "execution_count": 58,
   "metadata": {},
   "outputs": [
    {
     "name": "stdout",
     "output_type": "stream",
     "text": [
      "None\n",
      "[1, 2, 3, 4, 5]\n"
     ]
    }
   ],
   "source": [
    "print(numbers.remove(1000))\n",
    "print(numbers)"
   ]
  },
  {
   "cell_type": "code",
   "execution_count": 59,
   "metadata": {},
   "outputs": [
    {
     "name": "stdout",
     "output_type": "stream",
     "text": [
      "[1, 2, 3, 4, 5, 999, 998]\n"
     ]
    }
   ],
   "source": [
    "numbers.extend([999, 998])\n",
    "print(numbers)"
   ]
  },
  {
   "cell_type": "code",
   "execution_count": 61,
   "metadata": {},
   "outputs": [
    {
     "name": "stdout",
     "output_type": "stream",
     "text": [
      "998\n",
      "<class 'int'>\n"
     ]
    }
   ],
   "source": [
    "print(numbers[-1])\n",
    "print(type(numbers[-1]))"
   ]
  },
  {
   "cell_type": "code",
   "execution_count": 62,
   "metadata": {},
   "outputs": [
    {
     "name": "stdout",
     "output_type": "stream",
     "text": [
      "None\n",
      "[998, 999, 5, 4, 3, 2, 1]\n"
     ]
    }
   ],
   "source": [
    "print(numbers.reverse())\n",
    "print(numbers)"
   ]
  },
  {
   "cell_type": "code",
   "execution_count": 63,
   "metadata": {},
   "outputs": [
    {
     "name": "stdout",
     "output_type": "stream",
     "text": [
      "[1, 2, 3, 4, 5, 999, 998]\n"
     ]
    }
   ],
   "source": [
    "print(numbers[::-1]) "
   ]
  },
  {
   "cell_type": "code",
   "execution_count": 64,
   "metadata": {},
   "outputs": [
    {
     "name": "stdout",
     "output_type": "stream",
     "text": [
      "[1, 2, 3, 4, 5, 998, 999]\n"
     ]
    }
   ],
   "source": [
    "numbers.sort(reverse=True)\n",
    "print(numbers)"
   ]
  },
  {
   "cell_type": "code",
   "execution_count": 65,
   "metadata": {},
   "outputs": [
    {
     "name": "stdout",
     "output_type": "stream",
     "text": [
      "[1, 2, 3, 4, 5, 998, 999]\n"
     ]
    }
   ],
   "source": [
    "print(sorted(numbers, reverse=False))\n"
   ]
  },
  {
   "cell_type": "code",
   "execution_count": 4,
   "metadata": {},
   "outputs": [
    {
     "name": "stdout",
     "output_type": "stream",
     "text": [
      "3\n",
      "['Apples', 'Oranges', 'Bananas', 'TP']\n",
      "['Apples', 'Oranges', 'Bananas', 'TP', 'Razor', 'TP']\n",
      "['Apples', 'Oranges', 'Bananas', 'Razor', 'TP']\n",
      "['Apples', 'Bananas', 'Oranges', 'Razor', 'TP']\n"
     ]
    },
    {
     "data": {
      "text/plain": [
       "1"
      ]
     },
     "execution_count": 4,
     "metadata": {},
     "output_type": "execute_result"
    }
   ],
   "source": [
    "# ND kaip idet i list zodi \n",
    "shopping_cart = ['Apples', 'Oranges', 'Bananas']\n",
    "Shopping_cart_2 = ['Razor', 'TP']\n",
    "print(len(shopping_cart))\n",
    "shopping_cart.append('TP')\n",
    "print(shopping_cart)\n",
    "\n",
    "# print(if('Apples'in.shopping_cart))\n",
    "# print(\"Yes, 'Apples' is found in shopping_cart:\" , shopping_cart)\n",
    "\n",
    "\n",
    "final_list = shopping_cart + Shopping_cart_2\n",
    "print(final_list)\n",
    "\n",
    "(final_list.remove('TP'))\n",
    "print(final_list)\n",
    "\n",
    "final_list.sort()\n",
    "print(final_list)\n",
    "\n",
    "final_list.count('Apples')"
   ]
  },
  {
   "cell_type": "code",
   "execution_count": null,
   "metadata": {},
   "outputs": [],
   "source": []
  },
  {
   "cell_type": "code",
   "execution_count": null,
   "metadata": {},
   "outputs": [],
   "source": []
  }
 ],
 "metadata": {
  "kernelspec": {
   "display_name": "Python 3.10.6 64-bit",
   "language": "python",
   "name": "python3"
  },
  "language_info": {
   "codemirror_mode": {
    "name": "ipython",
    "version": 3
   },
   "file_extension": ".py",
   "mimetype": "text/x-python",
   "name": "python",
   "nbconvert_exporter": "python",
   "pygments_lexer": "ipython3",
   "version": "3.10.6"
  },
  "orig_nbformat": 4,
  "vscode": {
   "interpreter": {
    "hash": "e5c659902e25f6e168175e0a23e35de31816c23dea96122aa0d533fce758bf79"
   }
  }
 },
 "nbformat": 4,
 "nbformat_minor": 2
}
